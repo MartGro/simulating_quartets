{
 "cells": [
  {
   "cell_type": "code",
   "execution_count": 6,
   "metadata": {},
   "outputs": [
    {
     "name": "stdout",
     "output_type": "stream",
     "text": [
      "The autoreload extension is already loaded. To reload it, use:\n",
      "  %reload_ext autoreload\n"
     ]
    }
   ],
   "source": [
    "import simulate_tree\n",
    "from simulate_tree import constant\n",
    "import scipy\n",
    "\n",
    "%load_ext autoreload\n",
    "%autoreload 2\n"
   ]
  },
  {
   "cell_type": "code",
   "execution_count": 7,
   "metadata": {},
   "outputs": [],
   "source": [
    "param_dict_template ={\n",
    "    \"name\":\"template\",\n",
    "    \"taxon_count_model\":constant(20),\n",
    "    \"internal_branch_model\":scipy.stats.uniform(0.02, 1),\n",
    "    \"external_branch_model\":scipy.stats.uniform(0.02, 1),\n",
    "    \"site_count_range\":(200, 201),\n",
    "    \"substitution_model\":\"random\",\n",
    "    \"alpha_range\":(0.05, 1),\n",
    "    \"profile\":'all.freq',\n",
    "    \"profile_resampler\":('dirichlet', 10),\n",
    "    \"heterogeneous_branch_ratio\":'random',\n",
    "    \"rate_swap_ratio\":'random',\n",
    "    \"profile_swap_model\":scipy.stats.randint(0, 20)\n",
    "\n",
    "}\n",
    "path = \"./\""
   ]
  },
  {
   "cell_type": "code",
   "execution_count": 11,
   "metadata": {},
   "outputs": [
    {
     "data": {
      "text/plain": [
       "{'rf': 6.0,\n",
       " 'size': 20,\n",
       " 'max_rf': 34.0,\n",
       " 'avg_p': 0.09573684210526315,\n",
       " 'max_p': 0.265}"
      ]
     },
     "execution_count": 11,
     "metadata": {},
     "output_type": "execute_result"
    }
   ],
   "source": [
    "simulate_tree.get_iqtree_accuracy(param_dict_template,\"./accuracy_testing/\",\"t1\")"
   ]
  },
  {
   "cell_type": "code",
   "execution_count": null,
   "metadata": {},
   "outputs": [],
   "source": []
  }
 ],
 "metadata": {
  "kernelspec": {
   "display_name": "Python 3",
   "language": "python",
   "name": "python3"
  },
  "language_info": {
   "codemirror_mode": {
    "name": "ipython",
    "version": 3
   },
   "file_extension": ".py",
   "mimetype": "text/x-python",
   "name": "python",
   "nbconvert_exporter": "python",
   "pygments_lexer": "ipython3",
   "version": "3.6.7"
  }
 },
 "nbformat": 4,
 "nbformat_minor": 4
}
