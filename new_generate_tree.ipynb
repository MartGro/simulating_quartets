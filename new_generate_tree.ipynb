{
 "cells": [
  {
   "cell_type": "code",
   "execution_count": 43,
   "metadata": {},
   "outputs": [
    {
     "name": "stdout",
     "output_type": "stream",
     "text": [
      "The autoreload extension is already loaded. To reload it, use:\n",
      "  %reload_ext autoreload\n"
     ]
    }
   ],
   "source": [
    "import simulate_tree\n",
    "from simulate_tree import constant\n",
    "import scipy\n",
    "import simulation_parameters\n",
    "import os\n",
    "import generate_quartets\n",
    "\n",
    "\n",
    "%load_ext autoreload\n",
    "%autoreload 2\n"
   ]
  },
  {
   "cell_type": "code",
   "execution_count": 44,
   "metadata": {},
   "outputs": [],
   "source": [
    "import statistics\n",
    "\n",
    "def average_and_std_of_list(l):\n",
    "    average = sum(l)/len(l)\n",
    "    stdev = statistics.stdev(l)\n",
    "    return (average,stdev)\n",
    "\n",
    "\n",
    "def analyze_results(results):\n",
    "    \n",
    "    rfs = []\n",
    "    avg_ps = []\n",
    "    max_ps = []\n",
    "    for r in results:\n",
    "        assert r[\"size\"]==20\n",
    "        assert r[\"max_rf\"]==34\n",
    "        rfs.append(r[\"rf\"]/34)\n",
    "        avg_ps.append(r[\"avg_p\"])\n",
    "        max_ps.append(r[\"max_p\"])\n",
    "        \n",
    "    return_string = \"Number of trees:{}\\n\".format(len(rfs))\n",
    "    for name,variable in [(\"Robinson_Foulds\",rfs),(\"Average_p_dist\",avg_ps),(\"Max_p_dist\",max_ps)]:\n",
    "        return_string += name+\"\\n\"\n",
    "        return_string += \"average:  {:1.4f}\\nstdev:    {:1.4f}\\n\\n\".format(*average_and_std_of_list(variable))\n",
    "    \n",
    "    return return_string"
   ]
  },
  {
   "cell_type": "code",
   "execution_count": 16,
   "metadata": {},
   "outputs": [
    {
     "data": {
      "text/plain": [
       "{'rf': 8.0,\n",
       " 'size': 20,\n",
       " 'max_rf': 34.0,\n",
       " 'avg_p': 0.1730789473684211,\n",
       " 'max_p': 0.33499999999999996}"
      ]
     },
     "execution_count": 16,
     "metadata": {},
     "output_type": "execute_result"
    }
   ],
   "source": [
    "simulate_tree.get_iqtree_accuracy(simulation_parameters.training3_params,\"./accuracy_testing/\",\"t1\")"
   ]
  },
  {
   "cell_type": "code",
   "execution_count": 31,
   "metadata": {},
   "outputs": [],
   "source": [
    "results1 = []\n",
    "for i in range(1,10):\n",
    "    folder = \"./accuracy_testing/training1_{}/\".format(i)\n",
    "    os.makedirs(folder)\n",
    "    results1.append(simulate_tree.get_iqtree_accuracy(simulation_parameters.training1_params,folder,\"training1_{}\".format(i)))"
   ]
  },
  {
   "cell_type": "code",
   "execution_count": 39,
   "metadata": {},
   "outputs": [],
   "source": [
    "results2 = []\n",
    "for i in range(1,10):\n",
    "    folder = \"./accuracy_testing/training2_{}_run2/\".format(i)\n",
    "    os.makedirs(folder)\n",
    "    results2.append(simulate_tree.get_iqtree_accuracy(simulation_parameters.training2_params,folder,\"training2_{}\".format(i)))"
   ]
  },
  {
   "cell_type": "code",
   "execution_count": 33,
   "metadata": {},
   "outputs": [],
   "source": [
    "results3 = []\n",
    "for i in range(1,10):\n",
    "    folder = \"./accuracy_testing/training3_{}/\".format(i)\n",
    "    os.makedirs(folder)\n",
    "    results3.append(simulate_tree.get_iqtree_accuracy(simulation_parameters.training3_params,folder,\"training3_{}\".format(i)))"
   ]
  },
  {
   "cell_type": "code",
   "execution_count": 45,
   "metadata": {},
   "outputs": [
    {
     "name": "stdout",
     "output_type": "stream",
     "text": [
      "Number of trees:9\n",
      "Robinson_Foulds\n",
      "average:  0.0784\n",
      "stdev:    0.0294\n",
      "\n",
      "Average_p_dist\n",
      "average:  0.5545\n",
      "stdev:    0.1985\n",
      "\n",
      "Max_p_dist\n",
      "average:  0.6922\n",
      "stdev:    0.1889\n",
      "\n",
      "\n"
     ]
    }
   ],
   "source": [
    "print(analyze_results(results1_lb))"
   ]
  },
  {
   "cell_type": "code",
   "execution_count": 51,
   "metadata": {},
   "outputs": [],
   "source": [
    "results1_lb = []\n",
    "for i in range(1,10):\n",
    "    folder = \"./accuracy_testing/training1_long_brances_5_{}/\".format(i)\n",
    "    os.makedirs(folder)\n",
    "    results1_lb.append(simulate_tree.get_iqtree_accuracy(simulation_parameters.training1_long_branches_params,folder,\"training1_lb_{}\".format(i)))"
   ]
  },
  {
   "cell_type": "code",
   "execution_count": null,
   "metadata": {},
   "outputs": [],
   "source": []
  }
 ],
 "metadata": {
  "kernelspec": {
   "display_name": "Python 3",
   "language": "python",
   "name": "python3"
  },
  "language_info": {
   "codemirror_mode": {
    "name": "ipython",
    "version": 3
   },
   "file_extension": ".py",
   "mimetype": "text/x-python",
   "name": "python",
   "nbconvert_exporter": "python",
   "pygments_lexer": "ipython3",
   "version": "3.6.7"
  }
 },
 "nbformat": 4,
 "nbformat_minor": 4
}
