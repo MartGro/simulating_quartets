{
 "cells": [
  {
   "cell_type": "code",
   "execution_count": 1,
   "metadata": {},
   "outputs": [],
   "source": [
    "import ete3\n",
    "import evosimz.tree as tree\n",
    "import evosimz.sequence as sequence\n",
    "import scipy\n",
    "from ete3 import Tree, TreeStyle"
   ]
  },
  {
   "cell_type": "code",
   "execution_count": 2,
   "metadata": {},
   "outputs": [],
   "source": [
    "class constant():\n",
    "    def __init__(self,constant):\n",
    "        self.constant = constant\n",
    "    def rvs(self,*args):\n",
    "        return self.constant"
   ]
  },
  {
   "cell_type": "code",
   "execution_count": 3,
   "metadata": {},
   "outputs": [],
   "source": [
    "training1=tree.TreeSimulator(\n",
    "        taxon_count_model=constant(20),\n",
    "        internal_branch_model=scipy.stats.uniform(0.02, 1),\n",
    "        external_branch_model=scipy.stats.uniform(0.02, 1),\n",
    "        sequence_simulator=sequence.HeterogeneousProteinSequenceSimulator(\n",
    "            site_count_range=(200, 201),\n",
    "            substitution_model='random',\n",
    "            alpha_range=(0.05, 1),\n",
    "            profile='all.freq',\n",
    "            profile_resampler=('dirichlet', 10),\n",
    "            heterogeneous_branch_ratio=0.9,\n",
    "            rate_swap_ratio='random',\n",
    "            profile_swap_model=scipy.stats.randint(10, 20),\n",
    "        ))\n"
   ]
  },
  {
   "cell_type": "code",
   "execution_count": 4,
   "metadata": {},
   "outputs": [],
   "source": [
    "simulated_tree = training1.generate()\n"
   ]
  },
  {
   "cell_type": "code",
   "execution_count": 5,
   "metadata": {},
   "outputs": [
    {
     "name": "stdout",
     "output_type": "stream",
     "text": [
      "\n",
      "            /-taxon0\n",
      "         /-|\n",
      "        |  |   /-taxon1\n",
      "        |   \\-|\n",
      "      /-|      \\-taxon2\n",
      "     |  |\n",
      "     |  |   /-taxon3\n",
      "     |   \\-|\n",
      "     |     |   /-taxon4\n",
      "   /-|      \\-|\n",
      "  |  |         \\-taxon5\n",
      "  |  |\n",
      "  |  |      /-taxon6\n",
      "  |  |   /-|\n",
      "  |  |  |   \\-taxon7\n",
      "  |   \\-|\n",
      "  |     |   /-taxon8\n",
      "  |      \\-|\n",
      "  |        |   /-taxon9\n",
      "--|         \\-|\n",
      "  |           |   /-taxon10\n",
      "  |            \\-|\n",
      "  |               \\-taxon11\n",
      "  |\n",
      "  |      /-taxon12\n",
      "  |   /-|\n",
      "  |  |  |   /-taxon13\n",
      "  |  |   \\-|\n",
      "  |  |      \\-taxon14\n",
      "   \\-|\n",
      "     |      /-taxon15\n",
      "     |   /-|\n",
      "     |  |  |   /-taxon16\n",
      "     |  |   \\-|\n",
      "      \\-|      \\-taxon17\n",
      "        |\n",
      "        |   /-taxon18\n",
      "         \\-|\n",
      "            \\-taxon19\n"
     ]
    }
   ],
   "source": [
    "print(simulated_tree)"
   ]
  },
  {
   "cell_type": "code",
   "execution_count": null,
   "metadata": {},
   "outputs": [],
   "source": [
    "t = Tree()\n",
    "t.populate(10)\n",
    "\n",
    "ts = TreeStyle()\n",
    "ts.show_leaf_name = True\n",
    "ts.show_branch_length = True\n",
    "ts.show_branch_support = True\n",
    "t.render(\"mytree.png\", w=183, units=\"mm\")\n"
   ]
  },
  {
   "cell_type": "code",
   "execution_count": null,
   "metadata": {},
   "outputs": [],
   "source": []
  }
 ],
 "metadata": {
  "kernelspec": {
   "display_name": "Python 3",
   "language": "python",
   "name": "python3"
  },
  "language_info": {
   "codemirror_mode": {
    "name": "ipython",
    "version": 3
   },
   "file_extension": ".py",
   "mimetype": "text/x-python",
   "name": "python",
   "nbconvert_exporter": "python",
   "pygments_lexer": "ipython3",
   "version": "3.6.7"
  }
 },
 "nbformat": 4,
 "nbformat_minor": 4
}
