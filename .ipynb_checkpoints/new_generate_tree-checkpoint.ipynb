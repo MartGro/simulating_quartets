{
 "cells": [
  {
   "cell_type": "code",
   "execution_count": 26,
   "metadata": {},
   "outputs": [
    {
     "name": "stdout",
     "output_type": "stream",
     "text": [
      "The autoreload extension is already loaded. To reload it, use:\n",
      "  %reload_ext autoreload\n"
     ]
    }
   ],
   "source": [
    "import simulate_tree\n",
    "from simulate_tree import constant\n",
    "import scipy\n",
    "import simulation_parameters\n",
    "import os\n",
    "\n",
    "\n",
    "%load_ext autoreload\n",
    "%autoreload 2\n"
   ]
  },
  {
   "cell_type": "code",
   "execution_count": 17,
   "metadata": {},
   "outputs": [],
   "source": [
    "import statistics\n",
    "\n",
    "def average_and_std_of_list(l):\n",
    "    average = sum(l)/len(l)\n",
    "    stdev = statistics.stdev(l)\n",
    "    return (average,stdev)\n",
    "\n",
    "\n",
    "def analyze_results(results):\n",
    "    \n",
    "    rfs = []\n",
    "    avg_ps = []\n",
    "    max_ps = []\n",
    "    for r in results:\n",
    "        assert r[\"size\"]==20\n",
    "        assert r[\"max_rf\"]==34\n",
    "        rfs.append(r[\"rf\"]/34)\n",
    "        avg_ps.append(r[\"avg_p\"])\n",
    "        max_ps.append(r[\"max_p\"])\n",
    "        \n",
    "    return_string = \"Number of trees:{}\\n\".format(len(rfs))\n",
    "    for name,variable in [(\"Robinson_Foulds\",rfs),(\"Average_p_dist\",avg_ps),(\"Max_p_dist\",max_ps)]:\n",
    "        return_string += name+\"\\n\"\n",
    "        return_string += \"average:  {:1.4f}\\nstdev:    {:1.4f}\\n\\n\".format(*average_and_std_of_list(variable))\n",
    "    \n",
    "    return return_string"
   ]
  },
  {
   "cell_type": "code",
   "execution_count": 16,
   "metadata": {},
   "outputs": [
    {
     "data": {
      "text/plain": [
       "{'rf': 8.0,\n",
       " 'size': 20,\n",
       " 'max_rf': 34.0,\n",
       " 'avg_p': 0.1730789473684211,\n",
       " 'max_p': 0.33499999999999996}"
      ]
     },
     "execution_count": 16,
     "metadata": {},
     "output_type": "execute_result"
    }
   ],
   "source": [
    "simulate_tree.get_iqtree_accuracy(simulation_parameters.training3_params,\"./accuracy_testing/\",\"t1\")"
   ]
  },
  {
   "cell_type": "code",
   "execution_count": 31,
   "metadata": {},
   "outputs": [],
   "source": [
    "results1 = []\n",
    "for i in range(1,10):\n",
    "    folder = \"./accuracy_testing/training1_{}/\".format(i)\n",
    "    os.makedirs(folder)\n",
    "    results1.append(simulate_tree.get_iqtree_accuracy(simulation_parameters.training1_params,folder,\"training1_{}\".format(i)))"
   ]
  },
  {
   "cell_type": "code",
   "execution_count": 38,
   "metadata": {},
   "outputs": [
    {
     "ename": "FileExistsError",
     "evalue": "[Errno 17] File exists: './accuracy_testing/training2_1/'",
     "output_type": "error",
     "traceback": [
      "\u001b[0;31m---------------------------------------------------------------------------\u001b[0m",
      "\u001b[0;31mFileExistsError\u001b[0m                           Traceback (most recent call last)",
      "\u001b[0;32m<ipython-input-38-a910ce08ab8d>\u001b[0m in \u001b[0;36m<module>\u001b[0;34m\u001b[0m\n\u001b[1;32m      2\u001b[0m \u001b[0;32mfor\u001b[0m \u001b[0mi\u001b[0m \u001b[0;32min\u001b[0m \u001b[0mrange\u001b[0m\u001b[0;34m(\u001b[0m\u001b[0;36m1\u001b[0m\u001b[0;34m,\u001b[0m\u001b[0;36m10\u001b[0m\u001b[0;34m)\u001b[0m\u001b[0;34m:\u001b[0m\u001b[0;34m\u001b[0m\u001b[0;34m\u001b[0m\u001b[0m\n\u001b[1;32m      3\u001b[0m     \u001b[0mfolder\u001b[0m \u001b[0;34m=\u001b[0m \u001b[0;34m\"./accuracy_testing/training2_{}/\"\u001b[0m\u001b[0;34m.\u001b[0m\u001b[0mformat\u001b[0m\u001b[0;34m(\u001b[0m\u001b[0mi\u001b[0m\u001b[0;34m)\u001b[0m\u001b[0;34m\u001b[0m\u001b[0;34m\u001b[0m\u001b[0m\n\u001b[0;32m----> 4\u001b[0;31m     \u001b[0mos\u001b[0m\u001b[0;34m.\u001b[0m\u001b[0mmakedirs\u001b[0m\u001b[0;34m(\u001b[0m\u001b[0mfolder\u001b[0m\u001b[0;34m)\u001b[0m\u001b[0;34m\u001b[0m\u001b[0;34m\u001b[0m\u001b[0m\n\u001b[0m\u001b[1;32m      5\u001b[0m     \u001b[0mresults2\u001b[0m\u001b[0;34m.\u001b[0m\u001b[0mappend\u001b[0m\u001b[0;34m(\u001b[0m\u001b[0msimulate_tree\u001b[0m\u001b[0;34m.\u001b[0m\u001b[0mget_iqtree_accuracy\u001b[0m\u001b[0;34m(\u001b[0m\u001b[0msimulation_parameters\u001b[0m\u001b[0;34m.\u001b[0m\u001b[0mtraining2_params\u001b[0m\u001b[0;34m,\u001b[0m\u001b[0mfolder\u001b[0m\u001b[0;34m,\u001b[0m\u001b[0;34m\"training2_{}\"\u001b[0m\u001b[0;34m.\u001b[0m\u001b[0mformat\u001b[0m\u001b[0;34m(\u001b[0m\u001b[0mi\u001b[0m\u001b[0;34m)\u001b[0m\u001b[0;34m)\u001b[0m\u001b[0;34m)\u001b[0m\u001b[0;34m\u001b[0m\u001b[0;34m\u001b[0m\u001b[0m\n",
      "\u001b[0;32m/scratch/ga42vor/env/lib/python3.6/os.py\u001b[0m in \u001b[0;36mmakedirs\u001b[0;34m(name, mode, exist_ok)\u001b[0m\n\u001b[1;32m    218\u001b[0m             \u001b[0;32mreturn\u001b[0m\u001b[0;34m\u001b[0m\u001b[0;34m\u001b[0m\u001b[0m\n\u001b[1;32m    219\u001b[0m     \u001b[0;32mtry\u001b[0m\u001b[0;34m:\u001b[0m\u001b[0;34m\u001b[0m\u001b[0;34m\u001b[0m\u001b[0m\n\u001b[0;32m--> 220\u001b[0;31m         \u001b[0mmkdir\u001b[0m\u001b[0;34m(\u001b[0m\u001b[0mname\u001b[0m\u001b[0;34m,\u001b[0m \u001b[0mmode\u001b[0m\u001b[0;34m)\u001b[0m\u001b[0;34m\u001b[0m\u001b[0;34m\u001b[0m\u001b[0m\n\u001b[0m\u001b[1;32m    221\u001b[0m     \u001b[0;32mexcept\u001b[0m \u001b[0mOSError\u001b[0m\u001b[0;34m:\u001b[0m\u001b[0;34m\u001b[0m\u001b[0;34m\u001b[0m\u001b[0m\n\u001b[1;32m    222\u001b[0m         \u001b[0;31m# Cannot rely on checking for EEXIST, since the operating system\u001b[0m\u001b[0;34m\u001b[0m\u001b[0;34m\u001b[0m\u001b[0;34m\u001b[0m\u001b[0m\n",
      "\u001b[0;31mFileExistsError\u001b[0m: [Errno 17] File exists: './accuracy_testing/training2_1/'"
     ]
    }
   ],
   "source": [
    "results2 = []\n",
    "for i in range(1,10):\n",
    "    folder = \"./accuracy_testing/training2_{}_run2/\".format(i)\n",
    "    os.makedirs(folder)\n",
    "    results2.append(simulate_tree.get_iqtree_accuracy(simulation_parameters.training2_params,folder,\"training2_{}\".format(i)))"
   ]
  },
  {
   "cell_type": "code",
   "execution_count": 33,
   "metadata": {},
   "outputs": [],
   "source": [
    "results3 = []\n",
    "for i in range(1,10):\n",
    "    folder = \"./accuracy_testing/training3_{}/\".format(i)\n",
    "    os.makedirs(folder)\n",
    "    results3.append(simulate_tree.get_iqtree_accuracy(simulation_parameters.training3_params,folder,\"training3_{}\".format(i)))"
   ]
  },
  {
   "cell_type": "code",
   "execution_count": 37,
   "metadata": {},
   "outputs": [
    {
     "name": "stdout",
     "output_type": "stream",
     "text": [
      "Number of trees:9\n",
      "Robinson_Foulds\n",
      "average:  0.1242\n",
      "stdev:    0.1078\n",
      "\n",
      "Average_p_dist\n",
      "average:  0.3030\n",
      "stdev:    0.1878\n",
      "\n",
      "Max_p_dist\n",
      "average:  0.4372\n",
      "stdev:    0.2310\n",
      "\n",
      "\n"
     ]
    }
   ],
   "source": [
    "print(analyze_results(results3))"
   ]
  },
  {
   "cell_type": "code",
   "execution_count": null,
   "metadata": {},
   "outputs": [],
   "source": []
  }
 ],
 "metadata": {
  "kernelspec": {
   "display_name": "Python 3",
   "language": "python",
   "name": "python3"
  },
  "language_info": {
   "codemirror_mode": {
    "name": "ipython",
    "version": 3
   },
   "file_extension": ".py",
   "mimetype": "text/x-python",
   "name": "python",
   "nbconvert_exporter": "python",
   "pygments_lexer": "ipython3",
   "version": "3.6.7"
  }
 },
 "nbformat": 4,
 "nbformat_minor": 4
}
