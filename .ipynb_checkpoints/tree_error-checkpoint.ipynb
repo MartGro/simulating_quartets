{
 "cells": [
  {
   "cell_type": "code",
   "execution_count": 3,
   "metadata": {},
   "outputs": [],
   "source": [
    "from ete3 import Tree"
   ]
  },
  {
   "cell_type": "code",
   "execution_count": 1,
   "metadata": {},
   "outputs": [],
   "source": [
    "s1 = \"(((taxon0,(taxon1,(taxon2,(taxon3,taxon4)))),((taxon5,taxon6),(taxon7,taxon8))),((taxon9,taxon10),((taxon11,(taxon12,(taxon13,(taxon14,(taxon15,(taxon16,taxon17)))))),(taxon18,taxon19))));\"\n",
    "s1iq = \"(taxon0:0.1048532769,(taxon1:0.0735631709,(taxon2:0.1003958093,(taxon3:0.0629714506,taxon4:0.0740290761):0.0555639835):0.0546509724):0.0501928347,(((taxon5:0.0416891061,taxon6:0.1252423124):0.1047796843,(taxon7:0.0340325849,taxon8:0.1554860681):0.0524477235):0.1078519077,((taxon9:0.0657909161,taxon10:0.0487697919):0.1933525423,((taxon11:0.0540218272,(taxon12:0.0669610712,(taxon13:0.0594233819,(taxon14:0.0463855866,(taxon15:0.0334191012,(taxon16:0.0751987521,taxon17:0.0673371537):0.0187894893):0.0765614562):0.0316872244):0.0271292212):0.0409770176):0.0798765414,(taxon18:0.0552696013,taxon19:0.0154510334):0.1022330738):0.1139208791):0.2481259523):0.1081031078);\""
   ]
  },
  {
   "cell_type": "code",
   "execution_count": 5,
   "metadata": {},
   "outputs": [],
   "source": [
    "s1_tree = Tree(s1)\n",
    "s1iq_tree = Tree(s1iq)"
   ]
  },
  {
   "cell_type": "code",
   "execution_count": 8,
   "metadata": {},
   "outputs": [
    {
     "name": "stdout",
     "output_type": "stream",
     "text": [
      "20\n",
      "0.0\n"
     ]
    }
   ],
   "source": [
    "res = s1_tree.compare(s1iq_tree,unrooted=True)\n",
    "print(res[\"effective_tree_size\"])\n",
    "print(res[\"rf\"])"
   ]
  },
  {
   "cell_type": "code",
   "execution_count": 9,
   "metadata": {},
   "outputs": [],
   "source": [
    "s2 = \"(((taxon0,(taxon1,taxon2)),((taxon3,taxon4),((taxon5,(taxon6,(taxon7,(taxon8,taxon9)))),(taxon10,taxon11)))),(((taxon12,taxon13),(taxon14,(taxon15,(taxon16,taxon17)))),(taxon18,taxon19)));\"\n",
    "s2iq = \"(taxon0:0.8923033382,(taxon1:1.4296208055,taxon2:0.2014316740):0.3122588748,((((taxon3:0.8273409295,taxon4:0.1705207053):0.2953761076,(taxon10:0.3880330463,taxon11:0.8090119786):0.9633471753):0.2834626142,(taxon5:1.1056571833,(taxon6:0.7213802111,(taxon7:0.6398010208,(taxon8:0.4983904233,taxon9:0.4818038660):0.2040933353):0.1085647524):0.3252587232):0.6264963286):0.1901734701,(((taxon12:0.2883998012,taxon13:0.4846897645):1.0395208840,(taxon18:0.8243630571,taxon19:0.5967139886):0.1791095072):0.1265445281,((taxon14:1.2336417353,taxon15:0.1032856085):0.1138722997,(taxon16:0.1526978610,taxon17:0.7047447309):0.2928164614):0.3910218508):0.3795242714):0.3968405373);\""
   ]
  },
  {
   "cell_type": "code",
   "execution_count": null,
   "metadata": {},
   "outputs": [],
   "source": [
    "s2_tree = Tree(s2)\n",
    "s2iq_tree"
   ]
  }
 ],
 "metadata": {
  "kernelspec": {
   "display_name": "Python 3",
   "language": "python",
   "name": "python3"
  },
  "language_info": {
   "codemirror_mode": {
    "name": "ipython",
    "version": 3
   },
   "file_extension": ".py",
   "mimetype": "text/x-python",
   "name": "python",
   "nbconvert_exporter": "python",
   "pygments_lexer": "ipython3",
   "version": "3.6.7"
  }
 },
 "nbformat": 4,
 "nbformat_minor": 4
}
