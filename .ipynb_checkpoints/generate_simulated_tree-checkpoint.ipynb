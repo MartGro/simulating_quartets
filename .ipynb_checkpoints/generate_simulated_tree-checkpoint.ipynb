{
 "cells": [
  {
   "cell_type": "code",
   "execution_count": 148,
   "metadata": {},
   "outputs": [
    {
     "name": "stdout",
     "output_type": "stream",
     "text": [
      "The autoreload extension is already loaded. To reload it, use:\n",
      "  %reload_ext autoreload\n"
     ]
    }
   ],
   "source": [
    "import ete3\n",
    "import evosimz.tree as tree\n",
    "import evosimz.sequence as sequence\n",
    "import scipy\n",
    "import subprocess\n",
    "import os\n",
    "from ete3 import Tree\n",
    "from phylogeny_utilities import utilities\n",
    "from multiprocessing import Pool\n",
    "\n",
    "%load_ext autoreload\n",
    "%autoreload 2\n"
   ]
  },
  {
   "cell_type": "code",
   "execution_count": 111,
   "metadata": {},
   "outputs": [],
   "source": [
    "class constant():\n",
    "    def __init__(self,constant):\n",
    "        self.constant = constant\n",
    "        self.args = constant\n",
    "    def rvs(self,*args):\n",
    "        return self.constant\n",
    "    def __str__(self):\n",
    "        return str(self.constant)"
   ]
  },
  {
   "cell_type": "code",
   "execution_count": 66,
   "metadata": {},
   "outputs": [],
   "source": [
    "training1=tree.TreeSimulator(\n",
    "        taxon_count_model=constant(20),\n",
    "        internal_branch_model=scipy.stats.uniform(0.02, 1),\n",
    "        external_branch_model=scipy.stats.uniform(0.02, 1),\n",
    "        sequence_simulator=sequence.HeterogeneousProteinSequenceSimulator(\n",
    "            site_count_range=(200, 201),\n",
    "            substitution_model='random',\n",
    "            alpha_range=(0.05, 1),\n",
    "            profile='all.freq',\n",
    "            profile_resampler=('dirichlet', 10),\n",
    "            heterogeneous_branch_ratio=0.9,\n",
    "            rate_swap_ratio='random',\n",
    "            profile_swap_model=scipy.stats.randint(10, 20),\n",
    "        ))\n",
    "\n",
    "training1_wag=tree.TreeSimulator(\n",
    "        taxon_count_model=constant(20),\n",
    "        internal_branch_model=scipy.stats.uniform(0.02, 1),\n",
    "        external_branch_model=scipy.stats.uniform(0.02, 1),\n",
    "        sequence_simulator=sequence.HeterogeneousProteinSequenceSimulator(\n",
    "            site_count_range=(200, 201),\n",
    "            substitution_model='wag',\n",
    "            alpha_range=(0.05, 1),\n",
    "            profile='all.freq',\n",
    "            profile_resampler=('dirichlet', 10),\n",
    "            heterogeneous_branch_ratio=0.9,\n",
    "            rate_swap_ratio='random',\n",
    "            profile_swap_model=scipy.stats.randint(10, 20),\n",
    "        ))\n",
    "\n",
    "\n",
    "training1_wag_fixed=tree.TreeSimulator(\n",
    "        taxon_count_model=constant(20),\n",
    "        internal_branch_model=scipy.stats.uniform(0.02, 1),\n",
    "        external_branch_model=scipy.stats.uniform(0.02, 1),\n",
    "        sequence_simulator=sequence.HeterogeneousProteinSequenceSimulator(\n",
    "            site_count_range=(200, 201),\n",
    "            substitution_model='wag',\n",
    "            alpha_range=(0.05, 1),\n",
    "            profile='equi.freq',\n",
    "            profile_resampler=('dirichlet', 10),\n",
    "            heterogeneous_branch_ratio=0.9,\n",
    "            rate_swap_ratio='random',\n",
    "            profile_swap_model=scipy.stats.randint(10, 20),\n",
    "        ))\n",
    "\n",
    "\n",
    "\n",
    "training1_nohet=tree.TreeSimulator(\n",
    "        taxon_count_model=constant(20),\n",
    "        internal_branch_model=scipy.stats.uniform(0.02, 1),\n",
    "        external_branch_model=scipy.stats.uniform(0.02, 1),\n",
    "        sequence_simulator=sequence.HeterogeneousProteinSequenceSimulator(\n",
    "            site_count_range=(200, 201),\n",
    "            substitution_model='random',\n",
    "            alpha_range=(0.05, 1),\n",
    "            profile='all.freq',\n",
    "            profile_resampler=('dirichlet', 10),\n",
    "            heterogeneous_branch_ratio=0,\n",
    "            rate_swap_ratio='random',\n",
    "            profile_swap_model=scipy.stats.randint(10, 20),\n",
    "        ))\n",
    "\n",
    "\n",
    "training1_nohet_for_real=tree.TreeSimulator(\n",
    "        taxon_count_model=constant(20),\n",
    "        internal_branch_model=scipy.stats.uniform(0.02, 1),\n",
    "        external_branch_model=scipy.stats.uniform(0.02, 1),\n",
    "        sequence_simulator=sequence.HeterogeneousProteinSequenceSimulator(\n",
    "            site_count_range=(200, 201),\n",
    "            substitution_model='random',\n",
    "            alpha_range=(0.05, 1),\n",
    "            profile='all.freq',\n",
    "            profile_resampler=('dirichlet', 10),\n",
    "            heterogeneous_branch_ratio=0.5,\n",
    "            rate_swap_ratio=constant(0),\n",
    "            profile_swap_model=constant(0),\n",
    "        ))\n",
    "\n",
    "\n",
    "training1_nohet_WAG=tree.TreeSimulator(\n",
    "        taxon_count_model=constant(20),\n",
    "        internal_branch_model=scipy.stats.uniform(0.02, 1),\n",
    "        external_branch_model=scipy.stats.uniform(0.02, 1),\n",
    "        sequence_simulator=sequence.HeterogeneousProteinSequenceSimulator(\n",
    "            site_count_range=(200, 201),\n",
    "            substitution_model='wag',\n",
    "            alpha_range=(0.05, 1),\n",
    "            profile='all.freq',\n",
    "            profile_resampler=('dirichlet', 10),\n",
    "            heterogeneous_branch_ratio=0,\n",
    "            rate_swap_ratio=0,\n",
    "            profile_swap_model=0,\n",
    "        ))\n",
    "\n",
    "\n",
    "training1_nohet_WAG_fixed_profile=tree.TreeSimulator(\n",
    "        taxon_count_model=constant(20),\n",
    "        internal_branch_model=scipy.stats.uniform(0.02, 1),\n",
    "        external_branch_model=scipy.stats.uniform(0.02, 1),\n",
    "        sequence_simulator=sequence.HeterogeneousProteinSequenceSimulator(\n",
    "            site_count_range=(200, 201),\n",
    "            substitution_model='wag',\n",
    "            alpha_range=(0.05, 1),\n",
    "            profile='equi.freq',\n",
    "            profile_resampler=('dirichlet', 10),\n",
    "            heterogeneous_branch_ratio=0,\n",
    "            rate_swap_ratio=0,\n",
    "            profile_swap_model=0,\n",
    "        ))\n",
    "\n",
    "\n",
    "training1_nohet_2=tree.TreeSimulator(\n",
    "        taxon_count_model=constant(20),\n",
    "        internal_branch_model=scipy.stats.uniform(0.02, 1),\n",
    "        external_branch_model=scipy.stats.uniform(0.02, 1),\n",
    "        sequence_simulator=sequence.HeterogeneousProteinSequenceSimulator(\n",
    "            site_count_range=(200, 201),\n",
    "            substitution_model='random',\n",
    "            alpha_range=(0.05, 1),\n",
    "            profile='all.freq',\n",
    "            profile_resampler=('dirichlet', 10),\n",
    "            heterogeneous_branch_ratio=0,\n",
    "            rate_swap_ratio=0,\n",
    "            profile_swap_model=0,\n",
    "        ))\n",
    "\n",
    "\n",
    "\n",
    "training2 = tree.TreeSimulator(\n",
    "        taxon_count_model=constant(20),\n",
    "        internal_branch_model=scipy.stats.gamma(a=1, scale=0.1/1),\n",
    "        external_branch_model=scipy.stats.gamma(a=2, scale=0.2/2),\n",
    "        sequence_simulator=sequence.HeterogeneousProteinSequenceSimulator(\n",
    "            site_count_range=(200, 201),\n",
    "            substitution_model='random',\n",
    "            alpha_range=(0.05, 1),\n",
    "            profile='all.freq',\n",
    "            profile_resampler=('dirichlet', 10),\n",
    "            heterogeneous_branch_ratio=0.9,\n",
    "            rate_swap_ratio='random',\n",
    "            profile_swap_model=scipy.stats.randint(0, 20),\n",
    "        ))\n",
    "\n",
    "training2_nohet = tree.TreeSimulator(\n",
    "        taxon_count_model=constant(20),\n",
    "        internal_branch_model=scipy.stats.gamma(a=1, scale=0.1/1),\n",
    "        external_branch_model=scipy.stats.gamma(a=2, scale=0.2/2),\n",
    "        sequence_simulator=sequence.HeterogeneousProteinSequenceSimulator(\n",
    "            site_count_range=(200, 201),\n",
    "            substitution_model='random',\n",
    "            alpha_range=(0.05, 1),\n",
    "            profile='all.freq',\n",
    "            profile_resampler=('dirichlet', 10),\n",
    "            heterogeneous_branch_ratio=0,\n",
    "            rate_swap_ratio='random',\n",
    "            profile_swap_model=scipy.stats.randint(0, 20),\n",
    "        ))\n",
    "\n",
    "\n",
    "training3 = tree.TreeSimulator(\n",
    "        taxon_count_model=constant(20),\n",
    "        internal_branch_model=scipy.stats.uniform(0.02, 1),\n",
    "        external_branch_model=scipy.stats.uniform(0.02, 1),\n",
    "        sequence_simulator=sequence.HeterogeneousProteinSequenceSimulator(\n",
    "            site_count_range=(200, 201),\n",
    "            substitution_model='random',\n",
    "            alpha_range=(0.05, 1),\n",
    "            profile='all.freq',\n",
    "            profile_resampler=('dirichlet', 10),\n",
    "            heterogeneous_branch_ratio='random',\n",
    "            rate_swap_ratio='random',\n",
    "            profile_swap_model=scipy.stats.randint(0, 20),\n",
    "        ))\n",
    "\n",
    "\n",
    "training3_nohet = tree.TreeSimulator(\n",
    "        taxon_count_model=constant(20),\n",
    "        internal_branch_model=scipy.stats.uniform(0.02, 1),\n",
    "        external_branch_model=scipy.stats.uniform(0.02, 1),\n",
    "        sequence_simulator=sequence.HeterogeneousProteinSequenceSimulator(\n",
    "            site_count_range=(200, 201),\n",
    "            substitution_model='random',\n",
    "            alpha_range=(0.05, 1),\n",
    "            profile='all.freq',\n",
    "            profile_resampler=('dirichlet', 10),\n",
    "            heterogeneous_branch_ratio=0,\n",
    "            rate_swap_ratio='random',\n",
    "            profile_swap_model=scipy.stats.randint(0, 20),\n",
    "        ))\n",
    "\n",
    "\n",
    "\n",
    "short_branches = tree.TreeSimulator(\n",
    "        taxon_count_model=constant(20),\n",
    "        internal_branch_model=scipy.stats.uniform(0.002, 10),\n",
    "        external_branch_model=scipy.stats.uniform(0.002, 10),\n",
    "        sequence_simulator=sequence.HeterogeneousProteinSequenceSimulator(\n",
    "            site_count_range=(200, 201),\n",
    "            substitution_model='random',\n",
    "            alpha_range=(0.05, 1),\n",
    "            profile='all.freq',\n",
    "            profile_resampler=('dirichlet', 10),\n",
    "            heterogeneous_branch_ratio=0,\n",
    "            rate_swap_ratio='random',\n",
    "            profile_swap_model=scipy.stats.randint(0, 20),\n",
    "        ))"
   ]
  },
  {
   "cell_type": "code",
   "execution_count": 67,
   "metadata": {},
   "outputs": [],
   "source": [
    "simulated_tree = training1_nohet_2.generate()\n"
   ]
  },
  {
   "cell_type": "code",
   "execution_count": 153,
   "metadata": {},
   "outputs": [
    {
     "name": "stdout",
     "output_type": "stream",
     "text": [
      "/scratch/ga42vor/simulating_quartets/accuracy_comparision/ts111/ts111.orig_tree"
     ]
    },
    {
     "data": {
      "text/plain": [
       "6.0"
      ]
     },
     "execution_count": 153,
     "metadata": {},
     "output_type": "execute_result"
    }
   ],
   "source": [
    "result = get_iqtree_accuracy(training3_nohet,\"ts111\",model=\"WAG\")\n",
    "result[\"rf\"]"
   ]
  },
  {
   "cell_type": "code",
   "execution_count": 26,
   "metadata": {},
   "outputs": [
    {
     "name": "stdout",
     "output_type": "stream",
     "text": [
      "/scratch/ga42vor/simulating_quartets/accuracy_comparision/ts111/ts111.orig_tree\n",
      "0.29411764705882354\n",
      "/scratch/ga42vor/simulating_quartets/accuracy_comparision/ts111/ts111.orig_tree\n",
      "0.11764705882352941\n"
     ]
    },
    {
     "ename": "KeyboardInterrupt",
     "evalue": "",
     "output_type": "error",
     "traceback": [
      "\u001b[0;31m---------------------------------------------------------------------------\u001b[0m",
      "\u001b[0;31mKeyboardInterrupt\u001b[0m                         Traceback (most recent call last)",
      "\u001b[0;32m<ipython-input-26-de75993a571f>\u001b[0m in \u001b[0;36m<module>\u001b[0;34m\u001b[0m\n\u001b[1;32m      1\u001b[0m \u001b[0;32mfor\u001b[0m \u001b[0mi\u001b[0m \u001b[0;32min\u001b[0m \u001b[0mrange\u001b[0m\u001b[0;34m(\u001b[0m\u001b[0;36m20\u001b[0m\u001b[0;34m)\u001b[0m\u001b[0;34m:\u001b[0m\u001b[0;34m\u001b[0m\u001b[0;34m\u001b[0m\u001b[0m\n\u001b[0;32m----> 2\u001b[0;31m     \u001b[0mresult\u001b[0m \u001b[0;34m=\u001b[0m \u001b[0mget_iqtree_accuracy\u001b[0m\u001b[0;34m(\u001b[0m\u001b[0mshort_branches\u001b[0m\u001b[0;34m,\u001b[0m\u001b[0;34m\"ts111\"\u001b[0m\u001b[0;34m,\u001b[0m\u001b[0mmodel\u001b[0m\u001b[0;34m=\u001b[0m\u001b[0;34m\"WAG\"\u001b[0m\u001b[0;34m)\u001b[0m\u001b[0;34m\u001b[0m\u001b[0;34m\u001b[0m\u001b[0m\n\u001b[0m\u001b[1;32m      3\u001b[0m     \u001b[0mprint\u001b[0m\u001b[0;34m(\u001b[0m\u001b[0mresult\u001b[0m\u001b[0;34m[\u001b[0m\u001b[0;34m\"rf\"\u001b[0m\u001b[0;34m]\u001b[0m\u001b[0;34m/\u001b[0m\u001b[0mresult\u001b[0m\u001b[0;34m[\u001b[0m\u001b[0;34m\"max_rf\"\u001b[0m\u001b[0;34m]\u001b[0m\u001b[0;34m)\u001b[0m\u001b[0;34m\u001b[0m\u001b[0;34m\u001b[0m\u001b[0m\n",
      "\u001b[0;32m<ipython-input-6-7a595adc381d>\u001b[0m in \u001b[0;36mget_iqtree_accuracy\u001b[0;34m(simulator, filename, model, specify_cores)\u001b[0m\n\u001b[1;32m     78\u001b[0m     \u001b[0mreturn_str\u001b[0m \u001b[0;34m=\u001b[0m \u001b[0mcreate_fasta_string\u001b[0m\u001b[0;34m(\u001b[0m\u001b[0msimulated_tree\u001b[0m\u001b[0;34m)\u001b[0m\u001b[0;34m\u001b[0m\u001b[0;34m\u001b[0m\u001b[0m\n\u001b[1;32m     79\u001b[0m     \u001b[0mfile_path\u001b[0m \u001b[0;34m=\u001b[0m \u001b[0mwrite_fasta_file\u001b[0m\u001b[0;34m(\u001b[0m\u001b[0mfilename\u001b[0m\u001b[0;34m,\u001b[0m\u001b[0mreturn_str\u001b[0m\u001b[0;34m)\u001b[0m\u001b[0;34m\u001b[0m\u001b[0;34m\u001b[0m\u001b[0m\n\u001b[0;32m---> 80\u001b[0;31m     \u001b[0mrun_iqtree\u001b[0m\u001b[0;34m(\u001b[0m\u001b[0mfile_path\u001b[0m\u001b[0;34m,\u001b[0m\u001b[0mmodel\u001b[0m\u001b[0;34m,\u001b[0m\u001b[0mspecify_cores\u001b[0m\u001b[0;34m)\u001b[0m\u001b[0;34m\u001b[0m\u001b[0;34m\u001b[0m\u001b[0m\n\u001b[0m\u001b[1;32m     81\u001b[0m     \u001b[0miq_tree_newick\u001b[0m \u001b[0;34m=\u001b[0m \u001b[0mget_iq_tree_newick\u001b[0m\u001b[0;34m(\u001b[0m\u001b[0mfile_path\u001b[0m\u001b[0;34m)\u001b[0m\u001b[0;34m\u001b[0m\u001b[0;34m\u001b[0m\u001b[0m\n\u001b[1;32m     82\u001b[0m     \u001b[0moriginal_newick\u001b[0m \u001b[0;34m=\u001b[0m \u001b[0msimulated_tree\u001b[0m\u001b[0;34m.\u001b[0m\u001b[0mwrite\u001b[0m\u001b[0;34m(\u001b[0m\u001b[0mformat\u001b[0m\u001b[0;34m=\u001b[0m\u001b[0;36m9\u001b[0m\u001b[0;34m)\u001b[0m\u001b[0;34m\u001b[0m\u001b[0;34m\u001b[0m\u001b[0m\n",
      "\u001b[0;32m<ipython-input-6-7a595adc381d>\u001b[0m in \u001b[0;36mrun_iqtree\u001b[0;34m(filename, model, specify_cores)\u001b[0m\n\u001b[1;32m     47\u001b[0m         \u001b[0mparameters\u001b[0m \u001b[0;34m+=\u001b[0m \u001b[0;34m[\u001b[0m\u001b[0;34m\"-nt\"\u001b[0m\u001b[0;34m,\u001b[0m\u001b[0mspecify_cores\u001b[0m\u001b[0;34m]\u001b[0m\u001b[0;34m\u001b[0m\u001b[0;34m\u001b[0m\u001b[0m\n\u001b[1;32m     48\u001b[0m \u001b[0;34m\u001b[0m\u001b[0m\n\u001b[0;32m---> 49\u001b[0;31m     \u001b[0msubprocess\u001b[0m\u001b[0;34m.\u001b[0m\u001b[0mrun\u001b[0m\u001b[0;34m(\u001b[0m\u001b[0mparameters\u001b[0m\u001b[0;34m)\u001b[0m\u001b[0;34m\u001b[0m\u001b[0;34m\u001b[0m\u001b[0m\n\u001b[0m\u001b[1;32m     50\u001b[0m \u001b[0;34m\u001b[0m\u001b[0m\n\u001b[1;32m     51\u001b[0m     \u001b[0;31m#if model == None:\u001b[0m\u001b[0;34m\u001b[0m\u001b[0;34m\u001b[0m\u001b[0;34m\u001b[0m\u001b[0m\n",
      "\u001b[0;32m/scratch/ga42vor/env/lib/python3.6/subprocess.py\u001b[0m in \u001b[0;36mrun\u001b[0;34m(input, timeout, check, *popenargs, **kwargs)\u001b[0m\n\u001b[1;32m    403\u001b[0m     \u001b[0;32mwith\u001b[0m \u001b[0mPopen\u001b[0m\u001b[0;34m(\u001b[0m\u001b[0;34m*\u001b[0m\u001b[0mpopenargs\u001b[0m\u001b[0;34m,\u001b[0m \u001b[0;34m**\u001b[0m\u001b[0mkwargs\u001b[0m\u001b[0;34m)\u001b[0m \u001b[0;32mas\u001b[0m \u001b[0mprocess\u001b[0m\u001b[0;34m:\u001b[0m\u001b[0;34m\u001b[0m\u001b[0;34m\u001b[0m\u001b[0m\n\u001b[1;32m    404\u001b[0m         \u001b[0;32mtry\u001b[0m\u001b[0;34m:\u001b[0m\u001b[0;34m\u001b[0m\u001b[0;34m\u001b[0m\u001b[0m\n\u001b[0;32m--> 405\u001b[0;31m             \u001b[0mstdout\u001b[0m\u001b[0;34m,\u001b[0m \u001b[0mstderr\u001b[0m \u001b[0;34m=\u001b[0m \u001b[0mprocess\u001b[0m\u001b[0;34m.\u001b[0m\u001b[0mcommunicate\u001b[0m\u001b[0;34m(\u001b[0m\u001b[0minput\u001b[0m\u001b[0;34m,\u001b[0m \u001b[0mtimeout\u001b[0m\u001b[0;34m=\u001b[0m\u001b[0mtimeout\u001b[0m\u001b[0;34m)\u001b[0m\u001b[0;34m\u001b[0m\u001b[0;34m\u001b[0m\u001b[0m\n\u001b[0m\u001b[1;32m    406\u001b[0m         \u001b[0;32mexcept\u001b[0m \u001b[0mTimeoutExpired\u001b[0m\u001b[0;34m:\u001b[0m\u001b[0;34m\u001b[0m\u001b[0;34m\u001b[0m\u001b[0m\n\u001b[1;32m    407\u001b[0m             \u001b[0mprocess\u001b[0m\u001b[0;34m.\u001b[0m\u001b[0mkill\u001b[0m\u001b[0;34m(\u001b[0m\u001b[0;34m)\u001b[0m\u001b[0;34m\u001b[0m\u001b[0;34m\u001b[0m\u001b[0m\n",
      "\u001b[0;32m/scratch/ga42vor/env/lib/python3.6/subprocess.py\u001b[0m in \u001b[0;36mcommunicate\u001b[0;34m(self, input, timeout)\u001b[0m\n\u001b[1;32m    833\u001b[0m                 \u001b[0mstderr\u001b[0m \u001b[0;34m=\u001b[0m \u001b[0mself\u001b[0m\u001b[0;34m.\u001b[0m\u001b[0mstderr\u001b[0m\u001b[0;34m.\u001b[0m\u001b[0mread\u001b[0m\u001b[0;34m(\u001b[0m\u001b[0;34m)\u001b[0m\u001b[0;34m\u001b[0m\u001b[0;34m\u001b[0m\u001b[0m\n\u001b[1;32m    834\u001b[0m                 \u001b[0mself\u001b[0m\u001b[0;34m.\u001b[0m\u001b[0mstderr\u001b[0m\u001b[0;34m.\u001b[0m\u001b[0mclose\u001b[0m\u001b[0;34m(\u001b[0m\u001b[0;34m)\u001b[0m\u001b[0;34m\u001b[0m\u001b[0;34m\u001b[0m\u001b[0m\n\u001b[0;32m--> 835\u001b[0;31m             \u001b[0mself\u001b[0m\u001b[0;34m.\u001b[0m\u001b[0mwait\u001b[0m\u001b[0;34m(\u001b[0m\u001b[0;34m)\u001b[0m\u001b[0;34m\u001b[0m\u001b[0;34m\u001b[0m\u001b[0m\n\u001b[0m\u001b[1;32m    836\u001b[0m         \u001b[0;32melse\u001b[0m\u001b[0;34m:\u001b[0m\u001b[0;34m\u001b[0m\u001b[0;34m\u001b[0m\u001b[0m\n\u001b[1;32m    837\u001b[0m             \u001b[0;32mif\u001b[0m \u001b[0mtimeout\u001b[0m \u001b[0;32mis\u001b[0m \u001b[0;32mnot\u001b[0m \u001b[0;32mNone\u001b[0m\u001b[0;34m:\u001b[0m\u001b[0;34m\u001b[0m\u001b[0;34m\u001b[0m\u001b[0m\n",
      "\u001b[0;32m/scratch/ga42vor/env/lib/python3.6/subprocess.py\u001b[0m in \u001b[0;36mwait\u001b[0;34m(self, timeout, endtime)\u001b[0m\n\u001b[1;32m   1455\u001b[0m                         \u001b[0;32mif\u001b[0m \u001b[0mself\u001b[0m\u001b[0;34m.\u001b[0m\u001b[0mreturncode\u001b[0m \u001b[0;32mis\u001b[0m \u001b[0;32mnot\u001b[0m \u001b[0;32mNone\u001b[0m\u001b[0;34m:\u001b[0m\u001b[0;34m\u001b[0m\u001b[0;34m\u001b[0m\u001b[0m\n\u001b[1;32m   1456\u001b[0m                             \u001b[0;32mbreak\u001b[0m  \u001b[0;31m# Another thread waited.\u001b[0m\u001b[0;34m\u001b[0m\u001b[0;34m\u001b[0m\u001b[0m\n\u001b[0;32m-> 1457\u001b[0;31m                         \u001b[0;34m(\u001b[0m\u001b[0mpid\u001b[0m\u001b[0;34m,\u001b[0m \u001b[0msts\u001b[0m\u001b[0;34m)\u001b[0m \u001b[0;34m=\u001b[0m \u001b[0mself\u001b[0m\u001b[0;34m.\u001b[0m\u001b[0m_try_wait\u001b[0m\u001b[0;34m(\u001b[0m\u001b[0;36m0\u001b[0m\u001b[0;34m)\u001b[0m\u001b[0;34m\u001b[0m\u001b[0;34m\u001b[0m\u001b[0m\n\u001b[0m\u001b[1;32m   1458\u001b[0m                         \u001b[0;31m# Check the pid and loop as waitpid has been known to\u001b[0m\u001b[0;34m\u001b[0m\u001b[0;34m\u001b[0m\u001b[0;34m\u001b[0m\u001b[0m\n\u001b[1;32m   1459\u001b[0m                         \u001b[0;31m# return 0 even without WNOHANG in odd situations.\u001b[0m\u001b[0;34m\u001b[0m\u001b[0;34m\u001b[0m\u001b[0;34m\u001b[0m\u001b[0m\n",
      "\u001b[0;32m/scratch/ga42vor/env/lib/python3.6/subprocess.py\u001b[0m in \u001b[0;36m_try_wait\u001b[0;34m(self, wait_flags)\u001b[0m\n\u001b[1;32m   1402\u001b[0m             \u001b[0;34m\"\"\"All callers to this function MUST hold self._waitpid_lock.\"\"\"\u001b[0m\u001b[0;34m\u001b[0m\u001b[0;34m\u001b[0m\u001b[0m\n\u001b[1;32m   1403\u001b[0m             \u001b[0;32mtry\u001b[0m\u001b[0;34m:\u001b[0m\u001b[0;34m\u001b[0m\u001b[0;34m\u001b[0m\u001b[0m\n\u001b[0;32m-> 1404\u001b[0;31m                 \u001b[0;34m(\u001b[0m\u001b[0mpid\u001b[0m\u001b[0;34m,\u001b[0m \u001b[0msts\u001b[0m\u001b[0;34m)\u001b[0m \u001b[0;34m=\u001b[0m \u001b[0mos\u001b[0m\u001b[0;34m.\u001b[0m\u001b[0mwaitpid\u001b[0m\u001b[0;34m(\u001b[0m\u001b[0mself\u001b[0m\u001b[0;34m.\u001b[0m\u001b[0mpid\u001b[0m\u001b[0;34m,\u001b[0m \u001b[0mwait_flags\u001b[0m\u001b[0;34m)\u001b[0m\u001b[0;34m\u001b[0m\u001b[0;34m\u001b[0m\u001b[0m\n\u001b[0m\u001b[1;32m   1405\u001b[0m             \u001b[0;32mexcept\u001b[0m \u001b[0mChildProcessError\u001b[0m\u001b[0;34m:\u001b[0m\u001b[0;34m\u001b[0m\u001b[0;34m\u001b[0m\u001b[0m\n\u001b[1;32m   1406\u001b[0m                 \u001b[0;31m# This happens if SIGCLD is set to be ignored or waiting\u001b[0m\u001b[0;34m\u001b[0m\u001b[0;34m\u001b[0m\u001b[0;34m\u001b[0m\u001b[0m\n",
      "\u001b[0;31mKeyboardInterrupt\u001b[0m: "
     ]
    }
   ],
   "source": [
    "for i in range(20):\n",
    "    result = get_iqtree_accuracy(short_branches,\"ts111\",model=\"WAG\")\n",
    "    print(result[\"rf\"]/result[\"max_rf\"])"
   ]
  },
  {
   "cell_type": "code",
   "execution_count": null,
   "metadata": {},
   "outputs": [],
   "source": []
  },
  {
   "cell_type": "code",
   "execution_count": 278,
   "metadata": {},
   "outputs": [
    {
     "name": "stdout",
     "output_type": "stream",
     "text": [
      ">taxon0\n",
      "TMWSETNSIIMLYTVHYLHSANMVQDSNSSTQAITSPLFAGFMIIYPIYSLLSTYSYPLQLILSNDAIGAGLKMYSFYIHMLNSVDIDTMTARILRDSAELLSPSVGCFISNFMLKQIHLSNDTLHGLMMMSFIMTVFYNVFSSMVHDSYSFSFFFELRDFIVSNVILSLASSATYMTYTDVVNFLAYYMTQNKPVYILP\n",
      ">taxon1\n",
      "TMWSLTNSIIMLMTVQYLHSSRMVCDSNSSTQGITSPLFRGFVIIYPIYSLLSTHFYPLQMILLNEAVGAGLKMCSFCIRMLNSMDIDSMTAQILRGSAELLSPSTNSIISNYMCKQINLQSDTLHGLMMVSFIMTVPYNVFSSMVHQSYSFSFVFELRNFIVSNVILSLASSATHTTSTEVINFWAFPMTQNHPVYILP\n",
      ">taxon2\n",
      "TAYASTNAIAMLCTVQYLHSSNMVQDSNTSTSAITYPLFRNPVIIYPYYSLLSMLSSPLQYIMYNDAHGANLKMTSYFIYMLASTDIDTMTAMILRGSAKLLSPSVGCFISNDMCRSIHLQSHTMNALMRMYFINTVFYDVLSSMVHKSYSFSFFLELSVFIVSNVILSLQTSATEFTSQDVINFLSYYMTNNSPMYITP\n",
      ">taxon3\n",
      "TMYSQTNAIVMLLTIQYLHSDNAVLQSNTSTSAITYPLFYNRVIIYPYYSLLSMLSSPLQYIMYNDALGANLKMTSFFIYMINSVDINTVTAMILRGSAELLSPSVGRSISNIMCSSIHLQHHTMNGLMEMNFIMTVFYDVLSSFIHYTYSFSFFLELSVFIISNVILSLTTSATDPTAQDVVNFLSYYMTNNKKVYIVP\n",
      ">taxon4\n",
      "TMYAQTNAIVMLCTVQYLHSSNMMQDSNTSTSAITYPLFYNRVIIYPYYSLLSVLSSPLQYIMYNDALGANLKMTSFFIYMLNSVDIDTMTAMILRGSAELLSPSVGCFISNFMCSSIHLQHHTMNGLMQMNFIMTVFYDVLSSMVHKSYSFSFFLELSVFIVSNVILSLTTSATDPTYQDVINFLSYYMTNNKKVYIVP\n",
      ">taxon5\n",
      "TVWSRTNAIMMLCTVFYLHSINMVDKPNTSTNAITSPLFSGRMIIYPIYSLLSTLSCPLKLILYNDAAGHHLKMASFNIFMLNSTDINPMTAMILRGSAELLSPSVGYFISNIMCYQIHLQNHTANGLMQMYFIMTVFYDVHSSMAHVSYSFSFYLELGVFIISSVILQLMRSATHRTSSDVANFLSYPMTKHNPVYIYS\n",
      ">taxon6\n",
      "VILSQTNAISMVHTVYYLHSMNMVDKWNTSTNAITSPLFGGGMIIYPIYSLLSTSSHPLKQILYNDAAGCFLKMMSFNIFMLNSTDINPMTAMILRGSAELLSPSVNYLISNFMCYQIHLQNHTANGLMQMYFIMTVHYNVHSSMAPVSYSFSFYLELGVFITSAVILQLLRNATGFTSSDVANFLSYYMTKYNPVYIYS\n",
      ">taxon7\n",
      "TMCSSTNVLVMIFTVFYLHSSNMVDHLNTSTNAITSPLFNGRMIIYPIYSLLSPYSMPLIMILYNDAAGAQLKMMSFEIYMVNSTNINPFTNSILRASAELLSPSVGEFISSVMHFQIHLQNHTLNGLMATYFIMTVYYDVQSSIVAVNYSFSFYLVLSVFIVSAVILTLICSATARTSSDVANFLSYHMTTSEKGYTYS\n",
      ">taxon8\n",
      "TMCSSTNSLVMIFTVFYLHSVNMVDHLNTSTNAITSPLFNGRMIIYPIYSLLSLYSMPLTLILYNDAAGAHLKMTSFEIYMVNSTNINPFTNSILRASANLLSPSVGEFISSVMCFQIHLQNHTANGLMATYFIMTVYYDVQASIVAVNYSFSFYLVLGVFIVSAVILTLICSATARTYSDVANFLSYHMTTSKPGYTYS\n",
      ">taxon9\n",
      "TICSQTNVLVMIFTVFYLHSHNMADDPNTSTNAITSPLFNARMIIYPIYSLLSTCSYPLQLILYNDAIGANLKMTSYKIYMINSTHINPMTNMILRASYNLLSPSVAEFISNMMCAQISLQNHTASGLMHTYFIMTVYYEIQSSWLAVSYSFSFFLSLVVFIVPVVILQLITSATKPTESDVANFHSYHMTKSKKGYTYS\n",
      ">taxon10\n",
      "TICSQTNVLVMAFTIFYLHSANMAADPNTSTNAITSPLFNDRMIIYPIYSLLSMHSYPLQGILHNDAIGANLKMTSYKIYMINSAHINPSTNHILRASYNLLSPSVAVFISNMMCAQISLQNHTVSGLLPTYFIMTVYYEVQSSWLSVSYSFSFFLCLVVFIVPVVILQLTTSATKPTESDVANFTSYHMTKSKPGYTYS\n",
      ">taxon11\n",
      "TICSQTNVLVMIFTVFYLHSMNMADDPNTSTNAITSPLFNARMIIYPIYSLLSTYSYPLQLILYNDAIGANLKMTSYKIYMINSTHINPMTNMILRASYNLLSPSVAEFISNMMCAQISLQNHTLSGLMHTYFIMTVFYEIQSSWLAVSYSFSFFLSLVVFIVPVVILQLITSATKPTESDVANFHSYHMTKSKPGYTYS\n",
      ">taxon12\n",
      "TLWSGTHAIVMLFTVFYLHSANMMDDPNTSTNAITSPLFNGYLIIYPIYSLHSMYSYPLYDILHNDAKGYNLKMCSFKIYMLNSTAINTRTAVILRASAETLSPSVSYYISNLMCHQIHLQSHTLIVLMWINFIMTVEYDIFSSKILVSYSFSTYLDLDEFILSAVILPLMVSATDRTSHDVANFLSYPMTKSPLVYWYW\n",
      ">taxon13\n",
      "TVWSSTHTIFMLYTVSYLHSSNMMDDPNTSTNAITSPLFSQYMIIYPICSLLSTYSYPLYLISYNDADGWNLKMTSFNIYMLNSIGIYVRTAMILRGSAHLLSPSVSCYISNYMCQQIHLQNHTLATLMYTYSIMTVQYDIFSSKINTSYSFSTMLPLDQFIISAVILQLMKSATKRTSEEVANFLSYYMTNAHPMYNYA\n",
      ">taxon14\n",
      "TLWSSTHAISMLFTVSYLHSANMMDDPNTSTNGITSPLFNQMMIIYHICSLLSTYSYPLYYISYNDANGWNLKMHSFTIYMPNSAGIQVRTAMILRGSAFILSPSVSCHIGNIMCQQIHLQNHTLVTLMWVYFIMTVQYDLFSSLCLVSYSFRTRLPLDQMIISAVILQVMASATKCTSHDVANFMSYYMTNSLPVYNYA\n",
      ">taxon15\n",
      "TIWMQTNAIVMLFTVFYLQYINLTQHPNAGTYVITSPLFSSRTIIYPLYSLLSTQTCPLQLIVQNDATGASLKMVSDNIYMLASIQIDPATAMILRGSVNVLSPSVGMFLSNVMYNQISLQNHTLNGLMMMNFIMPVFYDVHSSMSHKSHSFSFYLELGVFIVLAVILLNATAATDPTSLDVVNFLSYWMTLEMKQYYYP\n",
      ">taxon16\n",
      "TIWMQTNAIVMLFTVFYLQYINIVQHSNAGTLVITSPLFMSRTIIYPLYSLLSTQTCPLQFIVQNDAIGAHLKMVSDNIYMLASIQIDPATAMILRASVNVLSPSVNMFLSNVMYNQISLQNHTANGLMMMYFIMPVFYDVHSSMAHKSHSFSFFLELGVFIVSAVILLNATIATDPTYLDVVNFLSYWMTLEMKQYYYP\n",
      ">taxon17\n",
      "TIWMQTNIEVMLYTVFYLQHHNIVQHSNAGTLVITSPLFMSHTIIYPLYSLLSTHACPLQMITQNDACGAHLKMMSDNIYMLASMQIAPATAMIWRASVNVLSPSVNVFLSNVMCNQILLQNHTANDLMMMHFIMPVFYDVHSSISCYSHSFSFVLELGVCIVLAVILLNALTATDPTYLDVVNFLSYWMTMEMKQYYYP\n",
      ">taxon18\n",
      "TMWMQTNAIVMLFTVFYLQYINVVQHPNAGTYAITSPLFCGRTIIYPIYSLLSTQTCPLQFIVQNDAIGAELKMMSFNIYSLASIQIDPMTAMILRGSVNILSPSVGTFISNFMCNQISLQEHTLNGLMMMCFIMPVFYDVHSSMAHKSHSFSFYLELGVFIVSAVILLNATIATDPTYLDVVNFLSYYMTLEKKVYYYP\n",
      ">taxon19\n",
      "TTWMQTNTIAMLFTVIYLQHINAAQDPNAGTYAITAPLFSGQYIIYPIYSLLSTQTYPLQFIVENDAIGAILKMMSYSIHSLASIQIDPMTAMILRASVNILSPSVGTFISNFMCIQISLQNHTLNGLMMMRFIMPVFYDMHSSMAHKSHSFSFYLELGVFIVSAVILLNATIATNPTYLDVVNFLSYYMTLEKPVYYHP\n",
      "\n"
     ]
    }
   ],
   "source": [
    "return_str = \"\"\n",
    "for leaf in simulated_tree:\n",
    "    return_str+=\">{}\\n{}\\n\".format(leaf.name,leaf.sequence.decode())\n",
    "print(return_str)"
   ]
  },
  {
   "cell_type": "code",
   "execution_count": 99,
   "metadata": {},
   "outputs": [
    {
     "name": "stdout",
     "output_type": "stream",
     "text": [
      "(((taxon0,(taxon1,taxon2)),((taxon3,taxon4),((taxon5,(taxon6,(taxon7,(taxon8,taxon9)))),(taxon10,taxon11)))),(((taxon12,taxon13),(taxon14,(taxon15,(taxon16,taxon17)))),(taxon18,taxon19)));\n"
     ]
    }
   ],
   "source": [
    "print(simulated_tree.write(format=9))"
   ]
  },
  {
   "cell_type": "code",
   "execution_count": 100,
   "metadata": {},
   "outputs": [],
   "source": []
  },
  {
   "cell_type": "code",
   "execution_count": 102,
   "metadata": {},
   "outputs": [
    {
     "data": {
      "text/plain": [
       "CompletedProcess(args=['../iqtree-2.0.5-Linux/bin/iqtree2', '-s'], returncode=2)"
      ]
     },
     "execution_count": 102,
     "metadata": {},
     "output_type": "execute_result"
    }
   ],
   "source": [
    "subprocess.run([\"../iqtree-2.0.5-Linux/bin/iqtree2\", \"-s\"])"
   ]
  },
  {
   "cell_type": "code",
   "execution_count": 5,
   "metadata": {},
   "outputs": [],
   "source": []
  },
  {
   "cell_type": "code",
   "execution_count": 176,
   "metadata": {},
   "outputs": [],
   "source": [
    "def get_pdist_from_fasta(fasta_filepath):\n",
    "    #get average pdistance\n",
    "    avg_p,equal_columns,tot_columns,num_pairs = utilities.get_avg_pdistance_of_fasta(fasta_filepath)    \n",
    "    #Get the maximum p distance\n",
    "    max_p= utilities.get_avg_pdistance_of_fasta(fasta_filepath,True)\n",
    "    \n",
    "    pdist_dict = {\"avg_p\":avg_p,\"max_p\":max_p,\"num_pairs\":num_pairs,\"equal_columns\":equal_columns,\"tot_columns\":tot_columns}\n",
    "    return pdist_dict\n",
    "\n",
    "def create_phylip_string(simulated_tree):\n",
    "    return_str = \" 20 200\\n\"\n",
    "    for leaf in simulated_tree:\n",
    "        return_str+=\"{}    {}\\n\".format(leaf.name,leaf.sequence.decode())\n",
    "    return return_str\n",
    "\n",
    "def write_fasta_file(file_name,return_str):\n",
    "    dir_path = os.getcwd()\n",
    "    dir_path+=\"/accuracy_comparision/\"+file_name\n",
    "    file_path = dir_path+\"/\"+file_name+\".fasta\"\n",
    "    if not os.path.exists(dir_path):\n",
    "        os.makedirs(dir_path)\n",
    "    with open(file_path,\"w\") as f:\n",
    "        f.write(return_str)\n",
    "    return file_path\n",
    "\n",
    "def write_phylip_file(file_name,return_str):\n",
    "    dir_path = os.getcwd()\n",
    "    dir_path+=\"/accuracy_comparision/\"+file_name\n",
    "    file_path = dir_path+\"/\"+file_name+\".phy\"\n",
    "    if not os.path.exists(dir_path):\n",
    "        os.makedirs(dir_path)\n",
    "    with open(file_path,\"w\") as f:\n",
    "        f.write(return_str)\n",
    "    return file_path\n",
    "\n",
    "\n",
    "def create_fasta_string(simulated_tree):\n",
    "    return_str = \"\"\n",
    "    for leaf in simulated_tree:\n",
    "        return_str+=\">{}\\n{}\\n\".format(leaf.name,leaf.sequence.decode())\n",
    "    return return_str\n",
    "\n",
    "\n",
    "def write_original_newick_string(filename,newick_string):\n",
    "    new_filename = filename.replace(\"fasta\",\"orig_tree\")\n",
    "    print(\"\\r\"+new_filename,end=\"\")\n",
    "    with open(new_filename,\"w\") as f:\n",
    "        f.write(newick_string)\n",
    "\n",
    "        \n",
    "def run_iqtree(filename,model,specify_cores):\n",
    "    parameters = [\"../iqtree-2.0.5-Linux/bin/iqtree2\", \"-s\",filename,\"-redo\"]\n",
    "    if model != None:\n",
    "        parameters += [\"-m\",model]\n",
    "    if specify_cores != None:\n",
    "        parameters += [\"-nt\",specify_cores]\n",
    "\n",
    "    subprocess.call(parameters)\n",
    "    \n",
    "    #if model == None:\n",
    "    #    subprocess.run([\"../iqtree-2.0.5-Linux/bin/iqtree2\", \"-s\",filename,\"-redo\"])\n",
    "    #else:\n",
    "    #    subprocess.run([\"../iqtree-2.0.5-Linux/bin/iqtree2\", \"-s\",filename,\"-m\",model,\"-redo\"])\n",
    "\n",
    "        \n",
    "        \n",
    "def get_iq_tree_newick(filename):\n",
    "    tree_filename = filename+\".treefile\"\n",
    "    with open(tree_filename,\"r\") as f:\n",
    "        tree_newick = f.read()\n",
    "    return tree_newick\n",
    "\n",
    "def simulate_tree(simulator,filename):\n",
    "    simulated_tree = simulator.generate()\n",
    "    return_str_fasta = create_fasta_string(simulated_tree)\n",
    "    file_path = write_fasta_file(filename,return_str_fasta)\n",
    "    original_newick = simulated_tree.write()\n",
    "    write_original_newick_string(file_path,original_newick)\n",
    "    return_str_phylip = create_phylip_string(simulated_tree)\n",
    "    write_phylip_file(filename,return_str_phylip)\n",
    "\n",
    "\n",
    "\n",
    "\n",
    "\n",
    "\n",
    "def get_iqtree_accuracy(simulator,filename,model = None,specify_cores = None):\n",
    "    simulated_tree = simulator.generate()\n",
    "    return_str = create_fasta_string(simulated_tree)\n",
    "    file_path = write_fasta_file(filename,return_str)\n",
    "    pdist_dict = get_pdist_from_fasta(file_path)\n",
    "    run_iqtree(file_path,model,specify_cores)\n",
    "    iq_tree_newick = get_iq_tree_newick(file_path)\n",
    "    original_newick = simulated_tree.write(format=9)\n",
    "    write_original_newick_string(file_path,original_newick)\n",
    "    iq_tree_tree = Tree(iq_tree_newick)    \n",
    "    comparison = simulated_tree.compare(iq_tree_tree,unrooted=True)\n",
    "    avg_p = pdist_dict[\"avg_p\"]\n",
    "    max_p = pdist_dict[\"max_p\"]\n",
    "    return {\"rf\":comparison[\"rf\"],\"size\":comparison[\"effective_tree_size\"],\"max_rf\":comparison[\"max_rf\"],\"avg_p\":avg_p,\"max_p\":max_p}\n",
    "    "
   ]
  },
  {
   "cell_type": "code",
   "execution_count": 144,
   "metadata": {},
   "outputs": [],
   "source": [
    "import statistics\n",
    "\n",
    "def average_and_std_of_list(l):\n",
    "    average = sum(l)/len(l)\n",
    "    stdev = statistics.stdev(l)\n",
    "    return (average,stdev)\n",
    "\n",
    "\n",
    "def analyze_results(results):\n",
    "    \n",
    "    rfs = []\n",
    "    avg_ps = []\n",
    "    max_ps = []\n",
    "    for r in results:\n",
    "        assert r[\"size\"]==20\n",
    "        assert r[\"max_rf\"]==34\n",
    "        rfs.append(r[\"rf\"]/34)\n",
    "        avg_ps.append(r[\"avg_p\"])\n",
    "        max_ps.append(r[\"max_p\"])\n",
    "        \n",
    "    return_string = \"Number of trees:{}\\n\".format(len(rfs))\n",
    "    for name,variable in [(\"Robinson_Foulds\",rfs),(\"Average_p_dist\",avg_ps),(\"Max_p_dist\",max_ps)]:\n",
    "        return_string += name+\"\\n\"\n",
    "        return_string += \"average:  {:1.4f}\\nstdev:    {:1.4f}\\n\\n\".format(*average_and_std_of_list(variable))\n",
    "    \n",
    "    return return_string"
   ]
  },
  {
   "cell_type": "code",
   "execution_count": 143,
   "metadata": {},
   "outputs": [
    {
     "name": "stdout",
     "output_type": "stream",
     "text": [
      "Number of trees:50\n",
      "Robinson_Foulds\n",
      "average:  0.0718\n",
      "stdev:    0.0586\n",
      "\n",
      "Average_p_dist\n",
      "average:  0.2810\n",
      "stdev:    0.1472\n",
      "\n",
      "Max_p_dist\n",
      "average:  0.4013\n",
      "stdev:    0.1759\n",
      "\n",
      "\n"
     ]
    }
   ],
   "source": [
    "print(analyze_results(results2))"
   ]
  },
  {
   "cell_type": "code",
   "execution_count": 182,
   "metadata": {},
   "outputs": [
    {
     "ename": "AttributeError",
     "evalue": "'int' object has no attribute 'rvs'",
     "output_type": "error",
     "traceback": [
      "\u001b[0;31m---------------------------------------------------------------------------\u001b[0m",
      "\u001b[0;31mAttributeError\u001b[0m                            Traceback (most recent call last)",
      "\u001b[0;32m<ipython-input-182-7112839e56dd>\u001b[0m in \u001b[0;36m<module>\u001b[0;34m\u001b[0m\n\u001b[1;32m      1\u001b[0m \u001b[0;32mfor\u001b[0m \u001b[0mi\u001b[0m \u001b[0;32min\u001b[0m \u001b[0mrange\u001b[0m\u001b[0;34m(\u001b[0m\u001b[0;36m1\u001b[0m\u001b[0;34m,\u001b[0m\u001b[0;36m9\u001b[0m\u001b[0;34m)\u001b[0m\u001b[0;34m:\u001b[0m\u001b[0;34m\u001b[0m\u001b[0;34m\u001b[0m\u001b[0m\n\u001b[0;32m----> 2\u001b[0;31m     \u001b[0msimulate_tree\u001b[0m\u001b[0;34m(\u001b[0m\u001b[0mtraining1_nohet_for_real\u001b[0m\u001b[0;34m,\u001b[0m\u001b[0;34m\"no_heterogeniety_no_shuffle_training_set1_0{}\"\u001b[0m\u001b[0;34m.\u001b[0m\u001b[0mformat\u001b[0m\u001b[0;34m(\u001b[0m\u001b[0mi\u001b[0m\u001b[0;34m)\u001b[0m\u001b[0;34m)\u001b[0m\u001b[0;34m\u001b[0m\u001b[0;34m\u001b[0m\u001b[0m\n\u001b[0m",
      "\u001b[0;32m<ipython-input-141-b2891604d20a>\u001b[0m in \u001b[0;36msimulate_tree\u001b[0;34m(simulator, filename)\u001b[0m\n\u001b[1;32m     72\u001b[0m \u001b[0;34m\u001b[0m\u001b[0m\n\u001b[1;32m     73\u001b[0m \u001b[0;32mdef\u001b[0m \u001b[0msimulate_tree\u001b[0m\u001b[0;34m(\u001b[0m\u001b[0msimulator\u001b[0m\u001b[0;34m,\u001b[0m\u001b[0mfilename\u001b[0m\u001b[0;34m)\u001b[0m\u001b[0;34m:\u001b[0m\u001b[0;34m\u001b[0m\u001b[0;34m\u001b[0m\u001b[0m\n\u001b[0;32m---> 74\u001b[0;31m     \u001b[0msimulated_tree\u001b[0m \u001b[0;34m=\u001b[0m \u001b[0msimulator\u001b[0m\u001b[0;34m.\u001b[0m\u001b[0mgenerate\u001b[0m\u001b[0;34m(\u001b[0m\u001b[0;34m)\u001b[0m\u001b[0;34m\u001b[0m\u001b[0;34m\u001b[0m\u001b[0m\n\u001b[0m\u001b[1;32m     75\u001b[0m     \u001b[0mreturn_str_fasta\u001b[0m \u001b[0;34m=\u001b[0m \u001b[0mcreate_fasta_string\u001b[0m\u001b[0;34m(\u001b[0m\u001b[0msimulated_tree\u001b[0m\u001b[0;34m)\u001b[0m\u001b[0;34m\u001b[0m\u001b[0;34m\u001b[0m\u001b[0m\n\u001b[1;32m     76\u001b[0m     \u001b[0mfile_path\u001b[0m \u001b[0;34m=\u001b[0m \u001b[0mwrite_fasta_file\u001b[0m\u001b[0;34m(\u001b[0m\u001b[0mfilename\u001b[0m\u001b[0;34m,\u001b[0m\u001b[0mreturn_str_fasta\u001b[0m\u001b[0;34m)\u001b[0m\u001b[0;34m\u001b[0m\u001b[0;34m\u001b[0m\u001b[0m\n",
      "\u001b[0;32m/scratch/ga42vor/evosimz/tree.py\u001b[0m in \u001b[0;36mgenerate\u001b[0;34m(self)\u001b[0m\n\u001b[1;32m     68\u001b[0m         \"\"\"\n\u001b[1;32m     69\u001b[0m         \u001b[0mtree\u001b[0m \u001b[0;34m=\u001b[0m \u001b[0mself\u001b[0m\u001b[0;34m.\u001b[0m\u001b[0mpopulate_tree\u001b[0m\u001b[0;34m(\u001b[0m\u001b[0;34m)\u001b[0m\u001b[0;34m\u001b[0m\u001b[0;34m\u001b[0m\u001b[0m\n\u001b[0;32m---> 70\u001b[0;31m         \u001b[0mself\u001b[0m\u001b[0;34m.\u001b[0m\u001b[0massign_sequences\u001b[0m\u001b[0;34m(\u001b[0m\u001b[0mtree\u001b[0m\u001b[0;34m)\u001b[0m\u001b[0;34m\u001b[0m\u001b[0;34m\u001b[0m\u001b[0m\n\u001b[0m\u001b[1;32m     71\u001b[0m         \u001b[0;32mreturn\u001b[0m \u001b[0mtree\u001b[0m\u001b[0;34m\u001b[0m\u001b[0;34m\u001b[0m\u001b[0m\n\u001b[1;32m     72\u001b[0m \u001b[0;34m\u001b[0m\u001b[0m\n",
      "\u001b[0;32m/scratch/ga42vor/evosimz/tree.py\u001b[0m in \u001b[0;36massign_sequences\u001b[0;34m(self, tree, leaves)\u001b[0m\n\u001b[1;32m    108\u001b[0m             \u001b[0;32mis\u001b[0m \u001b[0;32mNone\u001b[0m\u001b[0;34m.\u001b[0m\u001b[0;34m\u001b[0m\u001b[0;34m\u001b[0m\u001b[0m\n\u001b[1;32m    109\u001b[0m         \"\"\"\n\u001b[0;32m--> 110\u001b[0;31m         \u001b[0mself\u001b[0m\u001b[0;34m.\u001b[0m\u001b[0msequence_simulator\u001b[0m\u001b[0;34m.\u001b[0m\u001b[0mgenerate_sequences\u001b[0m\u001b[0;34m(\u001b[0m\u001b[0mtree\u001b[0m\u001b[0;34m,\u001b[0m \u001b[0mleaves\u001b[0m\u001b[0;34m)\u001b[0m\u001b[0;34m\u001b[0m\u001b[0;34m\u001b[0m\u001b[0m\n\u001b[0m\u001b[1;32m    111\u001b[0m \u001b[0;34m\u001b[0m\u001b[0m\n\u001b[1;32m    112\u001b[0m \u001b[0;34m\u001b[0m\u001b[0m\n",
      "\u001b[0;32m/scratch/ga42vor/evosimz/sequence.py\u001b[0m in \u001b[0;36mgenerate_sequences\u001b[0;34m(self, tree, leaves)\u001b[0m\n\u001b[1;32m     74\u001b[0m                 \u001b[0mself\u001b[0m\u001b[0;34m.\u001b[0m\u001b[0m_initialize_root\u001b[0m\u001b[0;34m(\u001b[0m\u001b[0mnode\u001b[0m\u001b[0;34m,\u001b[0m \u001b[0;34m**\u001b[0m\u001b[0mparameters\u001b[0m\u001b[0;34m)\u001b[0m\u001b[0;34m\u001b[0m\u001b[0;34m\u001b[0m\u001b[0m\n\u001b[1;32m     75\u001b[0m             \u001b[0;32melse\u001b[0m\u001b[0;34m:\u001b[0m\u001b[0;34m\u001b[0m\u001b[0;34m\u001b[0m\u001b[0m\n\u001b[0;32m---> 76\u001b[0;31m                 \u001b[0mself\u001b[0m\u001b[0;34m.\u001b[0m\u001b[0m_simulate_branch\u001b[0m\u001b[0;34m(\u001b[0m\u001b[0mnode\u001b[0m\u001b[0;34m,\u001b[0m \u001b[0;34m**\u001b[0m\u001b[0mparameters\u001b[0m\u001b[0;34m)\u001b[0m\u001b[0;34m\u001b[0m\u001b[0;34m\u001b[0m\u001b[0m\n\u001b[0m\u001b[1;32m     77\u001b[0m         \u001b[0mself\u001b[0m\u001b[0;34m.\u001b[0m\u001b[0mdecode_sequences\u001b[0m\u001b[0;34m(\u001b[0m\u001b[0mtree\u001b[0m\u001b[0;34m)\u001b[0m\u001b[0;34m\u001b[0m\u001b[0;34m\u001b[0m\u001b[0m\n\u001b[1;32m     78\u001b[0m         \u001b[0mself\u001b[0m\u001b[0;34m.\u001b[0m\u001b[0mclean_up\u001b[0m\u001b[0;34m(\u001b[0m\u001b[0mtree\u001b[0m\u001b[0;34m)\u001b[0m\u001b[0;34m\u001b[0m\u001b[0;34m\u001b[0m\u001b[0m\n",
      "\u001b[0;32m/scratch/ga42vor/evosimz/sequence.py\u001b[0m in \u001b[0;36m_simulate_branch\u001b[0;34m(cls, node, **parameters)\u001b[0m\n\u001b[1;32m    417\u001b[0m         profile = cls._generate_branch_profile(\n\u001b[1;32m    418\u001b[0m             \u001b[0mparameters\u001b[0m\u001b[0;34m[\u001b[0m\u001b[0;34m'profile'\u001b[0m\u001b[0;34m]\u001b[0m\u001b[0;34m,\u001b[0m \u001b[0mheterogeneous_branch_ratio\u001b[0m\u001b[0;34m,\u001b[0m\u001b[0;34m\u001b[0m\u001b[0;34m\u001b[0m\u001b[0m\n\u001b[0;32m--> 419\u001b[0;31m             \u001b[0mparameters\u001b[0m\u001b[0;34m[\u001b[0m\u001b[0;34m'profile_swap_model'\u001b[0m\u001b[0;34m]\u001b[0m\u001b[0;34m,\u001b[0m\u001b[0;34m\u001b[0m\u001b[0;34m\u001b[0m\u001b[0m\n\u001b[0m\u001b[1;32m    420\u001b[0m         )\n\u001b[1;32m    421\u001b[0m         \u001b[0mindices\u001b[0m \u001b[0;34m=\u001b[0m \u001b[0mnumpy\u001b[0m\u001b[0;34m.\u001b[0m\u001b[0marange\u001b[0m\u001b[0;34m(\u001b[0m\u001b[0mprofile\u001b[0m\u001b[0;34m.\u001b[0m\u001b[0mshape\u001b[0m\u001b[0;34m[\u001b[0m\u001b[0;36m1\u001b[0m\u001b[0;34m]\u001b[0m\u001b[0;34m)\u001b[0m\u001b[0;34m\u001b[0m\u001b[0;34m\u001b[0m\u001b[0m\n",
      "\u001b[0;32m/scratch/ga42vor/evosimz/sequence.py\u001b[0m in \u001b[0;36m_generate_branch_profile\u001b[0;34m(cls, profile, heterogeneous_branch_ratio, swap_model)\u001b[0m\n\u001b[1;32m    479\u001b[0m         if (swap_model is not None\n\u001b[1;32m    480\u001b[0m                 and random.random() < heterogeneous_branch_ratio):\n\u001b[0;32m--> 481\u001b[0;31m             \u001b[0mswap_count\u001b[0m \u001b[0;34m=\u001b[0m \u001b[0mswap_model\u001b[0m\u001b[0;34m.\u001b[0m\u001b[0mrvs\u001b[0m\u001b[0;34m(\u001b[0m\u001b[0mprofile\u001b[0m\u001b[0;34m.\u001b[0m\u001b[0mshape\u001b[0m\u001b[0;34m[\u001b[0m\u001b[0;36m0\u001b[0m\u001b[0;34m]\u001b[0m\u001b[0;34m)\u001b[0m\u001b[0;34m\u001b[0m\u001b[0;34m\u001b[0m\u001b[0m\n\u001b[0m\u001b[1;32m    482\u001b[0m             \u001b[0mcommon\u001b[0m\u001b[0;34m.\u001b[0m\u001b[0mrepeated_swap\u001b[0m\u001b[0;34m(\u001b[0m\u001b[0mprofile\u001b[0m\u001b[0;34m,\u001b[0m \u001b[0mswap_count\u001b[0m\u001b[0;34m)\u001b[0m\u001b[0;34m\u001b[0m\u001b[0;34m\u001b[0m\u001b[0m\n\u001b[1;32m    483\u001b[0m         \u001b[0;32mreturn\u001b[0m \u001b[0mprofile\u001b[0m\u001b[0;34m\u001b[0m\u001b[0;34m\u001b[0m\u001b[0m\n",
      "\u001b[0;31mAttributeError\u001b[0m: 'int' object has no attribute 'rvs'"
     ]
    }
   ],
   "source": [
    "\n",
    "for i in range(1,9):\n",
    "    simulate_tree(training1_nohet_for_real,\"no_heterogeniety_no_shuffle_training_set1_0{}\".format(i))"
   ]
  },
  {
   "cell_type": "code",
   "execution_count": 135,
   "metadata": {},
   "outputs": [
    {
     "name": "stdout",
     "output_type": "stream",
     "text": [
      "Training1  Heterogeniety:True\n",
      "Number of trees:50\n",
      "Robinson_Foulds\n",
      "average:  0.0365\n",
      "stdev:    0.0682\n",
      "\n",
      "Average_p_dist\n",
      "average:  0.3527\n",
      "stdev:    0.1641\n",
      "\n",
      "Max_p_dist\n",
      "average:  0.4795\n",
      "stdev:    0.1818\n",
      "\n",
      "\n",
      "Training1  Heterogeniety:False\n",
      "Number of trees:50\n",
      "Robinson_Foulds\n",
      "average:  0.3447\n",
      "stdev:    0.1391\n",
      "\n",
      "Average_p_dist\n",
      "average:  0.1331\n",
      "stdev:    0.0823\n",
      "\n",
      "Max_p_dist\n",
      "average:  0.2378\n",
      "stdev:    0.1048\n",
      "\n",
      "\n",
      "Training2  Heterogeniety:True\n",
      "Number of trees:50\n",
      "Robinson_Foulds\n",
      "average:  0.0718\n",
      "stdev:    0.0586\n",
      "\n",
      "Average_p_dist\n",
      "average:  0.2810\n",
      "stdev:    0.1472\n",
      "\n",
      "Max_p_dist\n",
      "average:  0.4013\n",
      "stdev:    0.1759\n",
      "\n",
      "\n",
      "Training2  Heterogeniety:False\n",
      "Number of trees:50\n",
      "Robinson_Foulds\n",
      "average:  0.4824\n",
      "stdev:    0.1291\n",
      "\n",
      "Average_p_dist\n",
      "average:  0.1213\n",
      "stdev:    0.0412\n",
      "\n",
      "Max_p_dist\n",
      "average:  0.2328\n",
      "stdev:    0.0618\n",
      "\n",
      "\n",
      "Training3  Heterogeniety:True\n",
      "Number of trees:50\n",
      "Robinson_Foulds\n",
      "average:  0.1424\n",
      "stdev:    0.1490\n",
      "\n",
      "Average_p_dist\n",
      "average:  0.2412\n",
      "stdev:    0.1381\n",
      "\n",
      "Max_p_dist\n",
      "average:  0.3753\n",
      "stdev:    0.1686\n",
      "\n",
      "\n",
      "Training3  Heterogeniety:False\n",
      "Number of trees:50\n",
      "Robinson_Foulds\n",
      "average:  0.3341\n",
      "stdev:    0.1724\n",
      "\n",
      "Average_p_dist\n",
      "average:  0.1657\n",
      "stdev:    0.0944\n",
      "\n",
      "Max_p_dist\n",
      "average:  0.2868\n",
      "stdev:    0.1133\n",
      "\n",
      "\n"
     ]
    }
   ],
   "source": [
    "data_set_1 = {\"simulator\":\"Training1\",\"results\": results1,\"heterogeniety\":True}\n",
    "data_set_2 = {\"simulator\":\"Training1\",\"results\": results1_nohet,\"heterogeniety\":False}\n",
    "data_set_3 = {\"simulator\":\"Training2\",\"results\": results2,\"heterogeniety\":True}\n",
    "data_set_4 = {\"simulator\":\"Training2\",\"results\": results2_nohet,\"heterogeniety\":False}\n",
    "data_set_5 = {\"simulator\":\"Training3\",\"results\": results3,\"heterogeniety\":True}\n",
    "data_set_6 = {\"simulator\":\"Training3\",\"results\": results3_nohet,\"heterogeniety\":False}\n",
    "\n",
    "\n",
    "datasets = [data_set_1,data_set_2,data_set_3,data_set_4,data_set_5,data_set_6]\n",
    "\n",
    "for dataset in datasets:\n",
    "    print(dataset[\"simulator\"] + \"  Heterogeniety:\" + str(dataset[\"heterogeniety\"]))\n",
    "    print(analyze_results(dataset[\"results\"]))"
   ]
  },
  {
   "cell_type": "code",
   "execution_count": 137,
   "metadata": {},
   "outputs": [],
   "source": [
    "import pickle\n",
    "with open(\"datasets.pickle\",\"wb\") as f:\n",
    "    pickle.dump(datasets,f)"
   ]
  },
  {
   "cell_type": "code",
   "execution_count": 140,
   "metadata": {},
   "outputs": [],
   "source": []
  },
  {
   "cell_type": "code",
   "execution_count": null,
   "metadata": {},
   "outputs": [],
   "source": []
  },
  {
   "cell_type": "code",
   "execution_count": 175,
   "metadata": {},
   "outputs": [
    {
     "ename": "FileNotFoundError",
     "evalue": "[Errno 2] No such file or directory: '/scratch/ga42vor/simulating_quartets/accuracy_comparision/training1_0/training1_0.fasta.treefile'",
     "output_type": "error",
     "traceback": [
      "\u001b[0;31m---------------------------------------------------------------------------\u001b[0m",
      "\u001b[0;31mFileNotFoundError\u001b[0m                         Traceback (most recent call last)",
      "\u001b[0;32m<ipython-input-175-927dd3d77189>\u001b[0m in \u001b[0;36m<module>\u001b[0;34m\u001b[0m\n\u001b[1;32m      1\u001b[0m \u001b[0mresults1\u001b[0m \u001b[0;34m=\u001b[0m \u001b[0;34m[\u001b[0m\u001b[0;34m]\u001b[0m\u001b[0;34m\u001b[0m\u001b[0;34m\u001b[0m\u001b[0m\n\u001b[1;32m      2\u001b[0m \u001b[0;32mfor\u001b[0m \u001b[0mi\u001b[0m \u001b[0;32min\u001b[0m \u001b[0mrange\u001b[0m\u001b[0;34m(\u001b[0m\u001b[0;36m50\u001b[0m\u001b[0;34m)\u001b[0m\u001b[0;34m:\u001b[0m\u001b[0;34m\u001b[0m\u001b[0;34m\u001b[0m\u001b[0m\n\u001b[0;32m----> 3\u001b[0;31m     \u001b[0mresults1\u001b[0m\u001b[0;34m.\u001b[0m\u001b[0mappend\u001b[0m\u001b[0;34m(\u001b[0m\u001b[0mget_iqtree_accuracy\u001b[0m\u001b[0;34m(\u001b[0m\u001b[0mtraining1\u001b[0m\u001b[0;34m,\u001b[0m\u001b[0;34m\"training1_{}\"\u001b[0m\u001b[0;34m.\u001b[0m\u001b[0mformat\u001b[0m\u001b[0;34m(\u001b[0m\u001b[0mi\u001b[0m\u001b[0;34m)\u001b[0m\u001b[0;34m,\u001b[0m\u001b[0mmodel\u001b[0m\u001b[0;34m=\u001b[0m\u001b[0;34m\"WAG\"\u001b[0m\u001b[0;34m)\u001b[0m\u001b[0;34m)\u001b[0m\u001b[0;34m\u001b[0m\u001b[0;34m\u001b[0m\u001b[0m\n\u001b[0m",
      "\u001b[0;32m<ipython-input-174-9daab6e200a9>\u001b[0m in \u001b[0;36mget_iqtree_accuracy\u001b[0;34m(simulator, filename, model, specify_cores)\u001b[0m\n\u001b[1;32m     91\u001b[0m     \u001b[0mpdist_dict\u001b[0m \u001b[0;34m=\u001b[0m \u001b[0mget_pdist_from_fasta\u001b[0m\u001b[0;34m(\u001b[0m\u001b[0mfile_path\u001b[0m\u001b[0;34m)\u001b[0m\u001b[0;34m\u001b[0m\u001b[0;34m\u001b[0m\u001b[0m\n\u001b[1;32m     92\u001b[0m     \u001b[0mrun_iqtree\u001b[0m\u001b[0;34m(\u001b[0m\u001b[0mfile_path\u001b[0m\u001b[0;34m,\u001b[0m\u001b[0mmodel\u001b[0m\u001b[0;34m,\u001b[0m\u001b[0mspecify_cores\u001b[0m\u001b[0;34m)\u001b[0m\u001b[0;34m\u001b[0m\u001b[0;34m\u001b[0m\u001b[0m\n\u001b[0;32m---> 93\u001b[0;31m     \u001b[0miq_tree_newick\u001b[0m \u001b[0;34m=\u001b[0m \u001b[0mget_iq_tree_newick\u001b[0m\u001b[0;34m(\u001b[0m\u001b[0mfile_path\u001b[0m\u001b[0;34m)\u001b[0m\u001b[0;34m\u001b[0m\u001b[0;34m\u001b[0m\u001b[0m\n\u001b[0m\u001b[1;32m     94\u001b[0m     \u001b[0moriginal_newick\u001b[0m \u001b[0;34m=\u001b[0m \u001b[0msimulated_tree\u001b[0m\u001b[0;34m.\u001b[0m\u001b[0mwrite\u001b[0m\u001b[0;34m(\u001b[0m\u001b[0mformat\u001b[0m\u001b[0;34m=\u001b[0m\u001b[0;36m9\u001b[0m\u001b[0;34m)\u001b[0m\u001b[0;34m\u001b[0m\u001b[0;34m\u001b[0m\u001b[0m\n\u001b[1;32m     95\u001b[0m     \u001b[0mwrite_original_newick_string\u001b[0m\u001b[0;34m(\u001b[0m\u001b[0mfile_path\u001b[0m\u001b[0;34m,\u001b[0m\u001b[0moriginal_newick\u001b[0m\u001b[0;34m)\u001b[0m\u001b[0;34m\u001b[0m\u001b[0;34m\u001b[0m\u001b[0m\n",
      "\u001b[0;32m<ipython-input-174-9daab6e200a9>\u001b[0m in \u001b[0;36mget_iq_tree_newick\u001b[0;34m(filename)\u001b[0m\n\u001b[1;32m     67\u001b[0m \u001b[0;32mdef\u001b[0m \u001b[0mget_iq_tree_newick\u001b[0m\u001b[0;34m(\u001b[0m\u001b[0mfilename\u001b[0m\u001b[0;34m)\u001b[0m\u001b[0;34m:\u001b[0m\u001b[0;34m\u001b[0m\u001b[0;34m\u001b[0m\u001b[0m\n\u001b[1;32m     68\u001b[0m     \u001b[0mtree_filename\u001b[0m \u001b[0;34m=\u001b[0m \u001b[0mfilename\u001b[0m\u001b[0;34m+\u001b[0m\u001b[0;34m\".treefile\"\u001b[0m\u001b[0;34m\u001b[0m\u001b[0;34m\u001b[0m\u001b[0m\n\u001b[0;32m---> 69\u001b[0;31m     \u001b[0;32mwith\u001b[0m \u001b[0mopen\u001b[0m\u001b[0;34m(\u001b[0m\u001b[0mtree_filename\u001b[0m\u001b[0;34m,\u001b[0m\u001b[0;34m\"r\"\u001b[0m\u001b[0;34m)\u001b[0m \u001b[0;32mas\u001b[0m \u001b[0mf\u001b[0m\u001b[0;34m:\u001b[0m\u001b[0;34m\u001b[0m\u001b[0;34m\u001b[0m\u001b[0m\n\u001b[0m\u001b[1;32m     70\u001b[0m         \u001b[0mtree_newick\u001b[0m \u001b[0;34m=\u001b[0m \u001b[0mf\u001b[0m\u001b[0;34m.\u001b[0m\u001b[0mread\u001b[0m\u001b[0;34m(\u001b[0m\u001b[0;34m)\u001b[0m\u001b[0;34m\u001b[0m\u001b[0;34m\u001b[0m\u001b[0m\n\u001b[1;32m     71\u001b[0m     \u001b[0;32mreturn\u001b[0m \u001b[0mtree_newick\u001b[0m\u001b[0;34m\u001b[0m\u001b[0;34m\u001b[0m\u001b[0m\n",
      "\u001b[0;31mFileNotFoundError\u001b[0m: [Errno 2] No such file or directory: '/scratch/ga42vor/simulating_quartets/accuracy_comparision/training1_0/training1_0.fasta.treefile'"
     ]
    }
   ],
   "source": [
    "p = Pool(16)\n",
    "\n",
    "results1 = []\n",
    "for i in range(50):\n",
    "    results1.append(get_iqtree_accuracy(training1,\"training1_{}\".format(i),model=\"WAG\"))"
   ]
  },
  {
   "cell_type": "code",
   "execution_count": 100,
   "metadata": {},
   "outputs": [
    {
     "name": "stdout",
     "output_type": "stream",
     "text": [
      "/scratch/ga42vor/simulating_quartets/accuracy_comparision/training2_49/training2_49.orig_tree"
     ]
    }
   ],
   "source": [
    "results2 = []\n",
    "for i in range(50):\n",
    "    results2.append(get_iqtree_accuracy(training2,\"training2_{}\".format(i),model=\"WAG\"))"
   ]
  },
  {
   "cell_type": "code",
   "execution_count": 101,
   "metadata": {},
   "outputs": [
    {
     "name": "stdout",
     "output_type": "stream",
     "text": [
      "/scratch/ga42vor/simulating_quartets/accuracy_comparision/training3_49/training3_49.orig_tree"
     ]
    }
   ],
   "source": [
    "results3 = []\n",
    "for i in range(50):\n",
    "    results3.append(get_iqtree_accuracy(training3,\"training3_{}\".format(i),model=\"WAG\"))"
   ]
  },
  {
   "cell_type": "code",
   "execution_count": 102,
   "metadata": {},
   "outputs": [
    {
     "name": "stdout",
     "output_type": "stream",
     "text": [
      "/scratch/ga42vor/simulating_quartets/accuracy_comparision/training1_nohet_49/training1_nohet_49.orig_tree"
     ]
    }
   ],
   "source": [
    "results1_nohet = []\n",
    "for i in range(50):\n",
    "    results1_nohet.append(get_iqtree_accuracy(training1_nohet,\"training1_nohet_{}\".format(i),model=\"WAG\"))"
   ]
  },
  {
   "cell_type": "code",
   "execution_count": 103,
   "metadata": {},
   "outputs": [
    {
     "name": "stdout",
     "output_type": "stream",
     "text": [
      "/scratch/ga42vor/simulating_quartets/accuracy_comparision/training2_nohet_49/training2_nohet_49.orig_tree"
     ]
    }
   ],
   "source": [
    "results2_nohet = []\n",
    "for i in range(50):\n",
    "    results2_nohet.append(get_iqtree_accuracy(training2_nohet,\"training2_nohet_{}\".format(i),model=\"WAG\"))"
   ]
  },
  {
   "cell_type": "code",
   "execution_count": 104,
   "metadata": {},
   "outputs": [
    {
     "name": "stdout",
     "output_type": "stream",
     "text": [
      "/scratch/ga42vor/simulating_quartets/accuracy_comparision/training3_nohet_49/training3_nohet_49.orig_tree"
     ]
    }
   ],
   "source": [
    "results3_nohet = []\n",
    "for i in range(50):\n",
    "    results3_nohet.append(get_iqtree_accuracy(training3_nohet,\"training3_nohet_{}\".format(i),model=\"WAG\"))"
   ]
  },
  {
   "cell_type": "code",
   "execution_count": 160,
   "metadata": {},
   "outputs": [
    {
     "name": "stdout",
     "output_type": "stream",
     "text": [
      "/scratch/ga42vor/simulating_quartets/accuracy_comparision/training1__nohet_wag_9/training1__nohet_wag_9.orig_tree"
     ]
    }
   ],
   "source": [
    "results1_nohet_wag = []\n",
    "for i in range(10):\n",
    "    results1_nohet_wag.append(get_iqtree_accuracy(training1_nohet_WAG,\"training1__nohet_wag_{}\".format(i)))"
   ]
  },
  {
   "cell_type": "code",
   "execution_count": 46,
   "metadata": {},
   "outputs": [],
   "source": [
    "import pickle \n",
    "with open(\"results.pickle\",\"rb\") as f:\n",
    "    result_dict = pickle.load(f)\n",
    "\n",
    "\n",
    "results1 = result_dict[\"results1\"]\n",
    "results2 = result_dict[\"results2\"]\n",
    "results3 = result_dict[\"results3\"]"
   ]
  },
  {
   "cell_type": "code",
   "execution_count": 70,
   "metadata": {},
   "outputs": [],
   "source": [
    "import pickle\n",
    "with open(\"results.pickle\",\"wb\") as f:\n",
    "    pickle.dump({\"results1\":results1,\"results2\":results2,\"results3\":results3},f)"
   ]
  },
  {
   "cell_type": "raw",
   "metadata": {},
   "source": [
    "Parameters:\n",
    "\n",
    "Topology and tree:\n",
    "Taxon count model \n",
    "internal branch model\n",
    "external branch model\n",
    "\n",
    "Sequences: \n",
    "site count\n",
    "substitution model \n",
    "alpha_range\n",
    "profile\n",
    "profile resample\n",
    "heterogeneous_branch_ratio_\n",
    "rate_wap_ratio\n",
    "profile swap model \n"
   ]
  },
  {
   "cell_type": "code",
   "execution_count": 45,
   "metadata": {},
   "outputs": [],
   "source": [
    "param_dict_template ={\n",
    "    \"name\":\"template\",\n",
    "    \"taxon_count_model\":constant(20),\n",
    "    \"internal_branch_model\":scipy.stats.uniform(0.02, 1),\n",
    "    \"external_branch_model\":scipy.stats.uniform(0.02, 1),\n",
    "    \"site_count_range\":(200, 201),\n",
    "    \"substitution_model\":\"random\",\n",
    "    \"alpha_range\":(0.05, 1),\n",
    "    \"profile\":'all.freq',\n",
    "    \"profile_resampler\":('dirichlet', 10),\n",
    "    \"heterogeneous_branch_ratio\":'random',\n",
    "    \"rate_swap_ratio\":'random',\n",
    "    \"profile_swap_model\":scipy.stats.randint(0, 20)\n",
    "\n",
    "}"
   ]
  },
  {
   "cell_type": "code",
   "execution_count": 38,
   "metadata": {},
   "outputs": [],
   "source": [
    "#Things to try\n",
    "possible_substitution_model = [\n",
    "    \"random\",\n",
    "    \"wag\",\n",
    "]\n",
    "possible_alpha_range = [(0.05, 1),(0.99, 1),(0.49, 0.5),(0.0049,0.005)]\n",
    "\n",
    "possible_profile = [\"all.freq\",\"equi.freq\"]\n",
    "\n",
    "possible_profile_resampler = [('dirichlet', 10),('dirichlet', 10000)]\n",
    "\n",
    "possible_heterogeneous_branch_ratio = [\"random\",0,1,0.5]\n",
    "\n",
    "possible_rate_swap_ratio = [constant(0),constant(1),constant(0.1),\"random\"]\n",
    "\n",
    "profile_swap_model = [scipy.stats.randint(0, 20),constant(0),constant(10),constant(20)]\n"
   ]
  },
  {
   "cell_type": "code",
   "execution_count": 112,
   "metadata": {},
   "outputs": [],
   "source": [
    "heterogeneous_no_profile ={\n",
    "    \"name\":\"heterogeneous_no_profile_no_profile_swap\",\n",
    "    \"taxon_count_model\":constant(20),\n",
    "    \"internal_branch_model\":scipy.stats.uniform(0.02, 1),\n",
    "    \"external_branch_model\":scipy.stats.uniform(0.02, 1),\n",
    "    \"site_count_range\":(200, 201),\n",
    "    \"substitution_model\":\"random\",\n",
    "    \"alpha_range\":(0.05, 1),\n",
    "    \"profile\":\"equi.freq\",\n",
    "    \"profile_resampler\":('dirichlet', 10),\n",
    "    \"heterogeneous_branch_ratio\":'random',\n",
    "    \"rate_swap_ratio\":'random',\n",
    "    \"profile_swap_model\":constant(0),\n",
    "}"
   ]
  },
  {
   "cell_type": "code",
   "execution_count": 131,
   "metadata": {},
   "outputs": [],
   "source": [
    "wag_dict = {\"substitution_model\":\"wag\"}\n",
    "\n",
    "no_het_dict = {    \n",
    "    \"heterogeneous_branch_ratio\":0.0,\n",
    "    \"rate_swap_ratio\":constant(0),\n",
    "    \"profile_swap_model\":constant(0)\n",
    "    }\n",
    "\n",
    "equi_profile_dict = {\n",
    "    \"profile\":'equi.freq',\n",
    "}\n"
   ]
  },
  {
   "cell_type": "code",
   "execution_count": 138,
   "metadata": {},
   "outputs": [],
   "source": [
    "training1_params = {\n",
    "    \"name\":\"training1_base_case\",\n",
    "    \"taxon_count_model\":constant(20),\n",
    "    \"internal_branch_model\":scipy.stats.uniform(0.02, 1),\n",
    "    \"external_branch_model\":scipy.stats.uniform(0.02, 1),\n",
    "    \"site_count_range\":(200, 201),\n",
    "    \"substitution_model\":\"random\",\n",
    "    \"alpha_range\":(0.05, 1),\n",
    "    \"profile\":\"all.freq\",\n",
    "    \"profile_resampler\":('dirichlet', 10),\n",
    "    \"heterogeneous_branch_ratio\":0.9,\n",
    "    \"rate_swap_ratio\":'random',\n",
    "    \"profile_swap_model\":scipy.stats.randint(10, 20),\n",
    "}\n",
    "\n",
    "\n",
    "\n",
    "##\n",
    "training1_wag_params = training1_params.copy()\n",
    "training1_wag_params.update(wag_dict)\n",
    "training1_wag_params.update({\n",
    "    \"name\":\"training1_wag\",\n",
    "})\n",
    "\n",
    "##\n",
    "training1_wag_no_het_params = training1_params.copy()\n",
    "training1_wag_no_het_params.update({\n",
    "    \"name\":\"training1_wag_no_het\",})\n",
    "training1_wag_no_het_params.update(wag_dict)\n",
    "training1_wag_no_het_params.update(no_het_dict)\n",
    "\n",
    "\n",
    "##\n",
    "training1_equi_profile = training1_params.copy()\n",
    "training1_equi_profile.update(equi_profile_dict)\n",
    "training1_equi_profile.update({\n",
    "    \"name\":\"training1_equi_profile\",})\n",
    "\n"
   ]
  },
  {
   "cell_type": "code",
   "execution_count": 168,
   "metadata": {},
   "outputs": [],
   "source": [
    "\n",
    "def make_simulator_from_parameters(parameters):\n",
    "   \n",
    "    simulator = tree.TreeSimulator(\n",
    "        taxon_count_model=parameters[\"taxon_count_model\"],\n",
    "        internal_branch_model=parameters[\"internal_branch_model\"],\n",
    "        external_branch_model=parameters[\"external_branch_model\"],\n",
    "        sequence_simulator=sequence.HeterogeneousProteinSequenceSimulator(\n",
    "            site_count_range=parameters[\"site_count_range\"],\n",
    "            substitution_model=parameters[\"substitution_model\"],\n",
    "            alpha_range=parameters[\"alpha_range\"],\n",
    "            profile=parameters[\"profile\"],\n",
    "            profile_resampler=parameters[\"profile_resampler\"],\n",
    "            heterogeneous_branch_ratio=parameters[\"heterogeneous_branch_ratio\"],\n",
    "            rate_swap_ratio=parameters[\"rate_swap_ratio\"],\n",
    "            profile_swap_model=parameters[\"profile_swap_model\"],\n",
    "        ))\n",
    "    return simulator\n",
    "\n",
    "def print_param_dict(parameters):\n",
    "    s = \"-----------------\\n\"\n",
    "    s+= \"name:                        {}\\n\".format(parameters[\"name\"])\n",
    "    s+= \"substitution_model:          {}\\n\".format(parameters[\"substitution_model\"])\n",
    "    s+= \"alpha_range:                 {}\\n\".format(parameters[\"alpha_range\"])\n",
    "    s+= \"profile:                     {}\\n\".format(parameters[\"profile\"])\n",
    "    s+= \"profile_resampler:           {}\\n\".format(parameters[\"profile_resampler\"])\n",
    "    s+= \"heterogeneous_branch_ratio:  {}\\n\".format(parameters[\"heterogeneous_branch_ratio\"])\n",
    "    s+= \"rate_swap_ratio:             {}\\n\".format(str(parameters[\"rate_swap_ratio\"]))\n",
    "    s+= \"profile_swap_model:          {}         #(number of swaps)\\n\\n\\n\".format(str(parameters[\"profile_swap_model\"].args))\n",
    "    return s\n",
    "\n",
    "\n",
    "def write_parameter_file(parameter_dict,filename):\n",
    "    s = print_param_dict(parameter_dict)\n",
    "    with open(filename,\"w\") as f:\n",
    "        f.write(s)\n",
    "\n",
    "\n",
    "def simulate_tree_from_parameters(parameter_dict,filename):\n",
    "    simulator=make_simulator_from_parameters(parameter_dict)\n",
    "    simulated_tree = simulator.generate()\n",
    "    return_str_fasta = create_fasta_string(simulated_tree)\n",
    "    file_path = write_fasta_file(filename,return_str_fasta)\n",
    "    original_newick = simulated_tree.write()\n",
    "    write_original_newick_string(file_path,original_newick)\n",
    "    return_str_phylip = create_phylip_string(simulated_tree)\n",
    "    write_phylip_file(filename,return_str_phylip)\n",
    "    logfile_path = file_path.replace(\"fasta\",\"params\")\n",
    "    write_parameter_file(parameter_dict,logfile_path)\n",
    "\n",
    "\n",
    "def generate_dataset_from_params(parameters,replicates = 9):\n",
    "    name = parameters[\"name\"]\n",
    "    for i in range(1,replicates+1):\n",
    "        simulate_tree_from_parameters(parameters,name+\"_{}\".format(i))"
   ]
  },
  {
   "cell_type": "code",
   "execution_count": 169,
   "metadata": {},
   "outputs": [
    {
     "name": "stdout",
     "output_type": "stream",
     "text": [
      "-----------------\n",
      "name:                        training1_equi_profile\n",
      "substitution_model:          random\n",
      "alpha_range:                 (0.05, 1)\n",
      "profile:                     equi.freq\n",
      "profile_resampler:           ('dirichlet', 10)\n",
      "heterogeneous_branch_ratio:  0.9\n",
      "rate_swap_ratio:             random\n",
      "profile_swap_model:          (10, 20)         #(number of swaps)\n",
      "\n",
      "\n",
      "\n"
     ]
    }
   ],
   "source": [
    "print(print_param_dict(training1_equi_profile))"
   ]
  },
  {
   "cell_type": "code",
   "execution_count": 173,
   "metadata": {},
   "outputs": [
    {
     "name": "stdout",
     "output_type": "stream",
     "text": [
      "/scratch/ga42vor/simulating_quartets/accuracy_comparision/training1_wag_no_het_9/training1_wag_no_het_9.orig_tree"
     ]
    }
   ],
   "source": [
    "generate_dataset_from_params(training1_wag_no_het_params)"
   ]
  },
  {
   "cell_type": "code",
   "execution_count": 87,
   "metadata": {},
   "outputs": [
    {
     "data": {
      "text/plain": [
       "0.61"
      ]
     },
     "execution_count": 87,
     "metadata": {},
     "output_type": "execute_result"
    }
   ],
   "source": [
    "utilities.get_avg_pdistance_of_fasta(\"accuracy_comparision/training3_14/training3_14.fasta\",True)"
   ]
  },
  {
   "cell_type": "code",
   "execution_count": 88,
   "metadata": {},
   "outputs": [
    {
     "data": {
      "text/plain": [
       "(0.38823684210526316, 23247, 38000, 190)"
      ]
     },
     "execution_count": 88,
     "metadata": {},
     "output_type": "execute_result"
    }
   ],
   "source": [
    "utilities.get_avg_pdistance_of_fasta(pdist_dict)"
   ]
  },
  {
   "cell_type": "code",
   "execution_count": 94,
   "metadata": {},
   "outputs": [
    {
     "data": {
      "text/plain": [
       "{'avg_p': 0.2248947368421054,\n",
       " 'max_p': 0.35,\n",
       " 'num_pairs': 190,\n",
       " 'equal_columns': 29454,\n",
       " 'tot_columns': 38000}"
      ]
     },
     "execution_count": 94,
     "metadata": {},
     "output_type": "execute_result"
    }
   ],
   "source": [
    "get_pdist_from_fasta(\"accuracy_comparision/training3_11/training3_11.fasta\")"
   ]
  },
  {
   "cell_type": "code",
   "execution_count": 35,
   "metadata": {},
   "outputs": [
    {
     "data": {
      "image/png": "[encoded data removed]",
      "text/plain": [
       "<Figure size 432x288 with 1 Axes>"
      ]
     },
     "metadata": {
      "needs_background": "light"
     },
     "output_type": "display_data"
    }
   ],
   "source": [
    "import matplotlib.pyplot as plt\n",
    "import numpy as np\n",
    "\n",
    "\n",
    "alpha1 = 1\n",
    "alpha01 = 0.1\n",
    "alpha05 = 0.5\n",
    "alpha005 = 0.005\n",
    "size = 20\n",
    "dist1 = np.random.gamma(alpha1, alpha1, int(1e6))\n",
    "dist2 = np.random.gamma(alpha005, alpha005, int(1e6))\n",
    "dist3 = np.random.gamma(alpha05,alpha05,int(1e6))\n",
    "#plt.hist(dist1,bins = 100)\n",
    "plt.hist(dist2,bins = 100)\n",
    "\n",
    "plt.show()"
   ]
  },
  {
   "cell_type": "code",
   "execution_count": 33,
   "metadata": {},
   "outputs": [
    {
     "data": {
      "text/plain": [
       "(1.0011072376294619, 1.0018143808075135)"
      ]
     },
     "execution_count": 33,
     "metadata": {},
     "output_type": "execute_result"
    }
   ],
   "source": [
    "average_and_std_of_list(dist1)"
   ]
  },
  {
   "cell_type": "code",
   "execution_count": 34,
   "metadata": {},
   "outputs": [
    {
     "data": {
      "text/plain": [
       "(2.4784861315582518e-05, 0.0003526993977187686)"
      ]
     },
     "execution_count": 34,
     "metadata": {},
     "output_type": "execute_result"
    }
   ],
   "source": [
    "average_and_std_of_list(dist2)"
   ]
  },
  {
   "cell_type": "code",
   "execution_count": 36,
   "metadata": {},
   "outputs": [
    {
     "data": {
      "text/plain": [
       "(0.24934942131848034, 0.35283350293451904)"
      ]
     },
     "execution_count": 36,
     "metadata": {},
     "output_type": "execute_result"
    }
   ],
   "source": [
    "average_and_std_of_list(dist3)"
   ]
  },
  {
   "cell_type": "code",
   "execution_count": 85,
   "metadata": {},
   "outputs": [
    {
     "name": "stdout",
     "output_type": "stream",
     "text": [
      "<scipy.stats._distn_infrastructure.rv_frozen object at 0x7f9419fc1470>\n"
     ]
    }
   ],
   "source": [
    "print(scipy.stats.randint(0, 20))"
   ]
  },
  {
   "cell_type": "code",
   "execution_count": 87,
   "metadata": {},
   "outputs": [],
   "source": [
    "s = scipy.stats.randint(0, 20)\n"
   ]
  },
  {
   "cell_type": "code",
   "execution_count": 102,
   "metadata": {},
   "outputs": [
    {
     "data": {
      "text/plain": [
       "(0, 20)"
      ]
     },
     "execution_count": 102,
     "metadata": {},
     "output_type": "execute_result"
    }
   ],
   "source": [
    "s.args"
   ]
  },
  {
   "cell_type": "code",
   "execution_count": null,
   "metadata": {},
   "outputs": [],
   "source": []
  },
  {
   "cell_type": "code",
   "execution_count": null,
   "metadata": {},
   "outputs": [],
   "source": []
  }
 ],
 "metadata": {
  "kernelspec": {
   "display_name": "Python 3",
   "language": "python",
   "name": "python3"
  },
  "language_info": {
   "codemirror_mode": {
    "name": "ipython",
    "version": 3
   },
   "file_extension": ".py",
   "mimetype": "text/x-python",
   "name": "python",
   "nbconvert_exporter": "python",
   "pygments_lexer": "ipython3",
   "version": "3.6.7"
  }
 },
 "nbformat": 4,
 "nbformat_minor": 4
}
