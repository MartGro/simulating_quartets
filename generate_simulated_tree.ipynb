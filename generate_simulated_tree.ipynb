{
 "cells": [
  {
   "cell_type": "code",
   "execution_count": 1,
   "metadata": {},
   "outputs": [],
   "source": [
    "import ete3\n",
    "import evosimz.tree as tree\n",
    "import evosimz.sequence as sequence\n",
    "import scipy"
   ]
  },
  {
   "cell_type": "code",
   "execution_count": 2,
   "metadata": {},
   "outputs": [],
   "source": [
    "class constant():\n",
    "    def __init__(self,constant):\n",
    "        self.constant = constant\n",
    "    def rvs(self,*args):\n",
    "        return self.constant"
   ]
  },
  {
   "cell_type": "code",
   "execution_count": 67,
   "metadata": {},
   "outputs": [],
   "source": [
    "training1=tree.TreeSimulator(\n",
    "        taxon_count_model=constant(20),\n",
    "        internal_branch_model=scipy.stats.uniform(0.02, 1),\n",
    "        external_branch_model=scipy.stats.uniform(0.02, 1),\n",
    "        sequence_simulator=sequence.HeterogeneousProteinSequenceSimulator(\n",
    "            site_count_range=(200, 201),\n",
    "            substitution_model='random',\n",
    "            alpha_range=(0.05, 1),\n",
    "            profile='all.freq',\n",
    "            profile_resampler=('dirichlet', 10),\n",
    "            heterogeneous_branch_ratio=0.9,\n",
    "            rate_swap_ratio='random',\n",
    "            profile_swap_model=scipy.stats.randint(10, 20),\n",
    "        ))\n",
    "\n",
    "training2 = tree.TreeSimulator(\n",
    "        taxon_count_model=constant(20),\n",
    "        internal_branch_model=scipy.stats.gamma(a=1, scale=0.1/1),\n",
    "        external_branch_model=scipy.stats.gamma(a=2, scale=0.2/2),\n",
    "        sequence_simulator=sequence.HeterogeneousProteinSequenceSimulator(\n",
    "            site_count_range=(200, 201),\n",
    "            substitution_model='random',\n",
    "            alpha_range=(0.05, 1),\n",
    "            profile='all.freq',\n",
    "            profile_resampler=('dirichlet', 10),\n",
    "            heterogeneous_branch_ratio=0.9,\n",
    "            rate_swap_ratio='random',\n",
    "            profile_swap_model=scipy.stats.randint(0, 20),\n",
    "        ))\n",
    "\n",
    "\n",
    "training3 = tree.TreeSimulator(\n",
    "        taxon_count_model=constant(20),\n",
    "        internal_branch_model=scipy.stats.uniform(0.02, 1),\n",
    "        external_branch_model=scipy.stats.uniform(0.02, 1),\n",
    "        sequence_simulator=sequence.HeterogeneousProteinSequenceSimulator(\n",
    "            site_count_range=(200, 201),\n",
    "            substitution_model='random',\n",
    "            alpha_range=(0.05, 1),\n",
    "            profile='all.freq',\n",
    "            profile_resampler=('dirichlet', 10),\n",
    "            heterogeneous_branch_ratio='random',\n",
    "            rate_swap_ratio='random',\n",
    "            profile_swap_model=scipy.stats.randint(0, 20),\n",
    "        ))\n",
    "\n",
    "\n",
    "\n",
    "short_branches = tree.TreeSimulator(\n",
    "        taxon_count_model=constant(20),\n",
    "        internal_branch_model=scipy.stats.uniform(0.02, 1),\n",
    "        external_branch_model=scipy.stats.uniform(0.02, 1),\n",
    "        sequence_simulator=sequence.HeterogeneousProteinSequenceSimulator(\n",
    "            site_count_range=(200, 201),\n",
    "            substitution_model='random',\n",
    "            alpha_range=(0.05, 1),\n",
    "            profile='all.freq',\n",
    "            profile_resampler=('dirichlet', 10),\n",
    "            heterogeneous_branch_ratio='random',\n",
    "            rate_swap_ratio='random',\n",
    "            profile_swap_model=scipy.stats.randint(0, 20),\n",
    "        ))"
   ]
  },
  {
   "cell_type": "code",
   "execution_count": 68,
   "metadata": {},
   "outputs": [],
   "source": [
    "simulated_tree = short_branches.generate()"
   ]
  },
  {
   "cell_type": "code",
   "execution_count": 69,
   "metadata": {},
   "outputs": [
    {
     "name": "stdout",
     "output_type": "stream",
     "text": [
      "/scratch/ga42vor/simulating_quartets/accuracy_comparision/ts111/ts111.orig_tree\n",
      "0.0\n",
      "/scratch/ga42vor/simulating_quartets/accuracy_comparision/ts111/ts111.orig_tree\n",
      "0.0\n",
      "/scratch/ga42vor/simulating_quartets/accuracy_comparision/ts111/ts111.orig_tree\n",
      "0.11764705882352941\n",
      "/scratch/ga42vor/simulating_quartets/accuracy_comparision/ts111/ts111.orig_tree\n",
      "0.058823529411764705\n",
      "/scratch/ga42vor/simulating_quartets/accuracy_comparision/ts111/ts111.orig_tree\n",
      "0.23529411764705882\n",
      "/scratch/ga42vor/simulating_quartets/accuracy_comparision/ts111/ts111.orig_tree\n",
      "0.4117647058823529\n",
      "/scratch/ga42vor/simulating_quartets/accuracy_comparision/ts111/ts111.orig_tree\n",
      "0.17647058823529413\n",
      "/scratch/ga42vor/simulating_quartets/accuracy_comparision/ts111/ts111.orig_tree\n",
      "0.0\n",
      "/scratch/ga42vor/simulating_quartets/accuracy_comparision/ts111/ts111.orig_tree\n",
      "0.058823529411764705\n",
      "/scratch/ga42vor/simulating_quartets/accuracy_comparision/ts111/ts111.orig_tree\n",
      "0.23529411764705882\n",
      "/scratch/ga42vor/simulating_quartets/accuracy_comparision/ts111/ts111.orig_tree\n",
      "0.4117647058823529\n",
      "/scratch/ga42vor/simulating_quartets/accuracy_comparision/ts111/ts111.orig_tree\n",
      "0.23529411764705882\n",
      "/scratch/ga42vor/simulating_quartets/accuracy_comparision/ts111/ts111.orig_tree\n",
      "0.17647058823529413\n",
      "/scratch/ga42vor/simulating_quartets/accuracy_comparision/ts111/ts111.orig_tree\n",
      "0.058823529411764705\n",
      "/scratch/ga42vor/simulating_quartets/accuracy_comparision/ts111/ts111.orig_tree\n",
      "0.5294117647058824\n",
      "/scratch/ga42vor/simulating_quartets/accuracy_comparision/ts111/ts111.orig_tree\n",
      "0.35294117647058826\n",
      "/scratch/ga42vor/simulating_quartets/accuracy_comparision/ts111/ts111.orig_tree\n",
      "0.0\n",
      "/scratch/ga42vor/simulating_quartets/accuracy_comparision/ts111/ts111.orig_tree\n",
      "0.058823529411764705\n"
     ]
    },
    {
     "ename": "KeyboardInterrupt",
     "evalue": "",
     "output_type": "error",
     "traceback": [
      "\u001b[0;31m---------------------------------------------------------------------------\u001b[0m",
      "\u001b[0;31mKeyboardInterrupt\u001b[0m                         Traceback (most recent call last)",
      "\u001b[0;32m<ipython-input-69-de75993a571f>\u001b[0m in \u001b[0;36m<module>\u001b[0;34m\u001b[0m\n\u001b[1;32m      1\u001b[0m \u001b[0;32mfor\u001b[0m \u001b[0mi\u001b[0m \u001b[0;32min\u001b[0m \u001b[0mrange\u001b[0m\u001b[0;34m(\u001b[0m\u001b[0;36m20\u001b[0m\u001b[0;34m)\u001b[0m\u001b[0;34m:\u001b[0m\u001b[0;34m\u001b[0m\u001b[0;34m\u001b[0m\u001b[0m\n\u001b[0;32m----> 2\u001b[0;31m     \u001b[0mresult\u001b[0m \u001b[0;34m=\u001b[0m \u001b[0mget_iqtree_accuracy\u001b[0m\u001b[0;34m(\u001b[0m\u001b[0mshort_branches\u001b[0m\u001b[0;34m,\u001b[0m\u001b[0;34m\"ts111\"\u001b[0m\u001b[0;34m,\u001b[0m\u001b[0mmodel\u001b[0m\u001b[0;34m=\u001b[0m\u001b[0;34m\"WAG\"\u001b[0m\u001b[0;34m)\u001b[0m\u001b[0;34m\u001b[0m\u001b[0;34m\u001b[0m\u001b[0m\n\u001b[0m\u001b[1;32m      3\u001b[0m     \u001b[0mprint\u001b[0m\u001b[0;34m(\u001b[0m\u001b[0mresult\u001b[0m\u001b[0;34m[\u001b[0m\u001b[0;34m\"rf\"\u001b[0m\u001b[0;34m]\u001b[0m\u001b[0;34m/\u001b[0m\u001b[0mresult\u001b[0m\u001b[0;34m[\u001b[0m\u001b[0;34m\"max_rf\"\u001b[0m\u001b[0;34m]\u001b[0m\u001b[0;34m)\u001b[0m\u001b[0;34m\u001b[0m\u001b[0;34m\u001b[0m\u001b[0m\n",
      "\u001b[0;32m<ipython-input-13-0fad11a41b36>\u001b[0m in \u001b[0;36mget_iqtree_accuracy\u001b[0;34m(simulator, filename, model)\u001b[0m\n\u001b[1;32m     42\u001b[0m     \u001b[0mreturn_str\u001b[0m \u001b[0;34m=\u001b[0m \u001b[0mcreate_fasta_string\u001b[0m\u001b[0;34m(\u001b[0m\u001b[0msimulated_tree\u001b[0m\u001b[0;34m)\u001b[0m\u001b[0;34m\u001b[0m\u001b[0;34m\u001b[0m\u001b[0m\n\u001b[1;32m     43\u001b[0m     \u001b[0mfile_path\u001b[0m \u001b[0;34m=\u001b[0m \u001b[0mwrite_fasta_file\u001b[0m\u001b[0;34m(\u001b[0m\u001b[0mfilename\u001b[0m\u001b[0;34m,\u001b[0m\u001b[0mreturn_str\u001b[0m\u001b[0;34m)\u001b[0m\u001b[0;34m\u001b[0m\u001b[0;34m\u001b[0m\u001b[0m\n\u001b[0;32m---> 44\u001b[0;31m     \u001b[0mrun_iqtree\u001b[0m\u001b[0;34m(\u001b[0m\u001b[0mfile_path\u001b[0m\u001b[0;34m,\u001b[0m\u001b[0mmodel\u001b[0m\u001b[0;34m)\u001b[0m\u001b[0;34m\u001b[0m\u001b[0;34m\u001b[0m\u001b[0m\n\u001b[0m\u001b[1;32m     45\u001b[0m     \u001b[0miq_tree_newick\u001b[0m \u001b[0;34m=\u001b[0m \u001b[0mget_iq_tree_newick\u001b[0m\u001b[0;34m(\u001b[0m\u001b[0mfile_path\u001b[0m\u001b[0;34m)\u001b[0m\u001b[0;34m\u001b[0m\u001b[0;34m\u001b[0m\u001b[0m\n\u001b[1;32m     46\u001b[0m     \u001b[0moriginal_newick\u001b[0m \u001b[0;34m=\u001b[0m \u001b[0msimulated_tree\u001b[0m\u001b[0;34m.\u001b[0m\u001b[0mwrite\u001b[0m\u001b[0;34m(\u001b[0m\u001b[0mformat\u001b[0m\u001b[0;34m=\u001b[0m\u001b[0;36m9\u001b[0m\u001b[0;34m)\u001b[0m\u001b[0;34m\u001b[0m\u001b[0;34m\u001b[0m\u001b[0m\n",
      "\u001b[0;32m<ipython-input-13-0fad11a41b36>\u001b[0m in \u001b[0;36mrun_iqtree\u001b[0;34m(filename, model)\u001b[0m\n\u001b[1;32m     26\u001b[0m         \u001b[0msubprocess\u001b[0m\u001b[0;34m.\u001b[0m\u001b[0mrun\u001b[0m\u001b[0;34m(\u001b[0m\u001b[0;34m[\u001b[0m\u001b[0;34m\"../iqtree-2.0.5-Linux/bin/iqtree2\"\u001b[0m\u001b[0;34m,\u001b[0m \u001b[0;34m\"-s\"\u001b[0m\u001b[0;34m,\u001b[0m\u001b[0mfilename\u001b[0m\u001b[0;34m,\u001b[0m\u001b[0;34m\"-redo\"\u001b[0m\u001b[0;34m]\u001b[0m\u001b[0;34m)\u001b[0m\u001b[0;34m\u001b[0m\u001b[0;34m\u001b[0m\u001b[0m\n\u001b[1;32m     27\u001b[0m     \u001b[0;32melse\u001b[0m\u001b[0;34m:\u001b[0m\u001b[0;34m\u001b[0m\u001b[0;34m\u001b[0m\u001b[0m\n\u001b[0;32m---> 28\u001b[0;31m         \u001b[0msubprocess\u001b[0m\u001b[0;34m.\u001b[0m\u001b[0mrun\u001b[0m\u001b[0;34m(\u001b[0m\u001b[0;34m[\u001b[0m\u001b[0;34m\"../iqtree-2.0.5-Linux/bin/iqtree2\"\u001b[0m\u001b[0;34m,\u001b[0m \u001b[0;34m\"-s\"\u001b[0m\u001b[0;34m,\u001b[0m\u001b[0mfilename\u001b[0m\u001b[0;34m,\u001b[0m\u001b[0;34m\"-m\"\u001b[0m\u001b[0;34m,\u001b[0m\u001b[0mmodel\u001b[0m\u001b[0;34m,\u001b[0m\u001b[0;34m\"-redo\"\u001b[0m\u001b[0;34m]\u001b[0m\u001b[0;34m)\u001b[0m\u001b[0;34m\u001b[0m\u001b[0;34m\u001b[0m\u001b[0m\n\u001b[0m\u001b[1;32m     29\u001b[0m \u001b[0;34m\u001b[0m\u001b[0m\n\u001b[1;32m     30\u001b[0m \u001b[0;34m\u001b[0m\u001b[0m\n",
      "\u001b[0;32m/scratch/ga42vor/env/lib/python3.6/subprocess.py\u001b[0m in \u001b[0;36mrun\u001b[0;34m(input, timeout, check, *popenargs, **kwargs)\u001b[0m\n\u001b[1;32m    403\u001b[0m     \u001b[0;32mwith\u001b[0m \u001b[0mPopen\u001b[0m\u001b[0;34m(\u001b[0m\u001b[0;34m*\u001b[0m\u001b[0mpopenargs\u001b[0m\u001b[0;34m,\u001b[0m \u001b[0;34m**\u001b[0m\u001b[0mkwargs\u001b[0m\u001b[0;34m)\u001b[0m \u001b[0;32mas\u001b[0m \u001b[0mprocess\u001b[0m\u001b[0;34m:\u001b[0m\u001b[0;34m\u001b[0m\u001b[0;34m\u001b[0m\u001b[0m\n\u001b[1;32m    404\u001b[0m         \u001b[0;32mtry\u001b[0m\u001b[0;34m:\u001b[0m\u001b[0;34m\u001b[0m\u001b[0;34m\u001b[0m\u001b[0m\n\u001b[0;32m--> 405\u001b[0;31m             \u001b[0mstdout\u001b[0m\u001b[0;34m,\u001b[0m \u001b[0mstderr\u001b[0m \u001b[0;34m=\u001b[0m \u001b[0mprocess\u001b[0m\u001b[0;34m.\u001b[0m\u001b[0mcommunicate\u001b[0m\u001b[0;34m(\u001b[0m\u001b[0minput\u001b[0m\u001b[0;34m,\u001b[0m \u001b[0mtimeout\u001b[0m\u001b[0;34m=\u001b[0m\u001b[0mtimeout\u001b[0m\u001b[0;34m)\u001b[0m\u001b[0;34m\u001b[0m\u001b[0;34m\u001b[0m\u001b[0m\n\u001b[0m\u001b[1;32m    406\u001b[0m         \u001b[0;32mexcept\u001b[0m \u001b[0mTimeoutExpired\u001b[0m\u001b[0;34m:\u001b[0m\u001b[0;34m\u001b[0m\u001b[0;34m\u001b[0m\u001b[0m\n\u001b[1;32m    407\u001b[0m             \u001b[0mprocess\u001b[0m\u001b[0;34m.\u001b[0m\u001b[0mkill\u001b[0m\u001b[0;34m(\u001b[0m\u001b[0;34m)\u001b[0m\u001b[0;34m\u001b[0m\u001b[0;34m\u001b[0m\u001b[0m\n",
      "\u001b[0;32m/scratch/ga42vor/env/lib/python3.6/subprocess.py\u001b[0m in \u001b[0;36mcommunicate\u001b[0;34m(self, input, timeout)\u001b[0m\n\u001b[1;32m    833\u001b[0m                 \u001b[0mstderr\u001b[0m \u001b[0;34m=\u001b[0m \u001b[0mself\u001b[0m\u001b[0;34m.\u001b[0m\u001b[0mstderr\u001b[0m\u001b[0;34m.\u001b[0m\u001b[0mread\u001b[0m\u001b[0;34m(\u001b[0m\u001b[0;34m)\u001b[0m\u001b[0;34m\u001b[0m\u001b[0;34m\u001b[0m\u001b[0m\n\u001b[1;32m    834\u001b[0m                 \u001b[0mself\u001b[0m\u001b[0;34m.\u001b[0m\u001b[0mstderr\u001b[0m\u001b[0;34m.\u001b[0m\u001b[0mclose\u001b[0m\u001b[0;34m(\u001b[0m\u001b[0;34m)\u001b[0m\u001b[0;34m\u001b[0m\u001b[0;34m\u001b[0m\u001b[0m\n\u001b[0;32m--> 835\u001b[0;31m             \u001b[0mself\u001b[0m\u001b[0;34m.\u001b[0m\u001b[0mwait\u001b[0m\u001b[0;34m(\u001b[0m\u001b[0;34m)\u001b[0m\u001b[0;34m\u001b[0m\u001b[0;34m\u001b[0m\u001b[0m\n\u001b[0m\u001b[1;32m    836\u001b[0m         \u001b[0;32melse\u001b[0m\u001b[0;34m:\u001b[0m\u001b[0;34m\u001b[0m\u001b[0;34m\u001b[0m\u001b[0m\n\u001b[1;32m    837\u001b[0m             \u001b[0;32mif\u001b[0m \u001b[0mtimeout\u001b[0m \u001b[0;32mis\u001b[0m \u001b[0;32mnot\u001b[0m \u001b[0;32mNone\u001b[0m\u001b[0;34m:\u001b[0m\u001b[0;34m\u001b[0m\u001b[0;34m\u001b[0m\u001b[0m\n",
      "\u001b[0;32m/scratch/ga42vor/env/lib/python3.6/subprocess.py\u001b[0m in \u001b[0;36mwait\u001b[0;34m(self, timeout, endtime)\u001b[0m\n\u001b[1;32m   1455\u001b[0m                         \u001b[0;32mif\u001b[0m \u001b[0mself\u001b[0m\u001b[0;34m.\u001b[0m\u001b[0mreturncode\u001b[0m \u001b[0;32mis\u001b[0m \u001b[0;32mnot\u001b[0m \u001b[0;32mNone\u001b[0m\u001b[0;34m:\u001b[0m\u001b[0;34m\u001b[0m\u001b[0;34m\u001b[0m\u001b[0m\n\u001b[1;32m   1456\u001b[0m                             \u001b[0;32mbreak\u001b[0m  \u001b[0;31m# Another thread waited.\u001b[0m\u001b[0;34m\u001b[0m\u001b[0;34m\u001b[0m\u001b[0m\n\u001b[0;32m-> 1457\u001b[0;31m                         \u001b[0;34m(\u001b[0m\u001b[0mpid\u001b[0m\u001b[0;34m,\u001b[0m \u001b[0msts\u001b[0m\u001b[0;34m)\u001b[0m \u001b[0;34m=\u001b[0m \u001b[0mself\u001b[0m\u001b[0;34m.\u001b[0m\u001b[0m_try_wait\u001b[0m\u001b[0;34m(\u001b[0m\u001b[0;36m0\u001b[0m\u001b[0;34m)\u001b[0m\u001b[0;34m\u001b[0m\u001b[0;34m\u001b[0m\u001b[0m\n\u001b[0m\u001b[1;32m   1458\u001b[0m                         \u001b[0;31m# Check the pid and loop as waitpid has been known to\u001b[0m\u001b[0;34m\u001b[0m\u001b[0;34m\u001b[0m\u001b[0;34m\u001b[0m\u001b[0m\n\u001b[1;32m   1459\u001b[0m                         \u001b[0;31m# return 0 even without WNOHANG in odd situations.\u001b[0m\u001b[0;34m\u001b[0m\u001b[0;34m\u001b[0m\u001b[0;34m\u001b[0m\u001b[0m\n",
      "\u001b[0;32m/scratch/ga42vor/env/lib/python3.6/subprocess.py\u001b[0m in \u001b[0;36m_try_wait\u001b[0;34m(self, wait_flags)\u001b[0m\n\u001b[1;32m   1402\u001b[0m             \u001b[0;34m\"\"\"All callers to this function MUST hold self._waitpid_lock.\"\"\"\u001b[0m\u001b[0;34m\u001b[0m\u001b[0;34m\u001b[0m\u001b[0m\n\u001b[1;32m   1403\u001b[0m             \u001b[0;32mtry\u001b[0m\u001b[0;34m:\u001b[0m\u001b[0;34m\u001b[0m\u001b[0;34m\u001b[0m\u001b[0m\n\u001b[0;32m-> 1404\u001b[0;31m                 \u001b[0;34m(\u001b[0m\u001b[0mpid\u001b[0m\u001b[0;34m,\u001b[0m \u001b[0msts\u001b[0m\u001b[0;34m)\u001b[0m \u001b[0;34m=\u001b[0m \u001b[0mos\u001b[0m\u001b[0;34m.\u001b[0m\u001b[0mwaitpid\u001b[0m\u001b[0;34m(\u001b[0m\u001b[0mself\u001b[0m\u001b[0;34m.\u001b[0m\u001b[0mpid\u001b[0m\u001b[0;34m,\u001b[0m \u001b[0mwait_flags\u001b[0m\u001b[0;34m)\u001b[0m\u001b[0;34m\u001b[0m\u001b[0;34m\u001b[0m\u001b[0m\n\u001b[0m\u001b[1;32m   1405\u001b[0m             \u001b[0;32mexcept\u001b[0m \u001b[0mChildProcessError\u001b[0m\u001b[0;34m:\u001b[0m\u001b[0;34m\u001b[0m\u001b[0;34m\u001b[0m\u001b[0m\n\u001b[1;32m   1406\u001b[0m                 \u001b[0;31m# This happens if SIGCLD is set to be ignored or waiting\u001b[0m\u001b[0;34m\u001b[0m\u001b[0;34m\u001b[0m\u001b[0;34m\u001b[0m\u001b[0m\n",
      "\u001b[0;31mKeyboardInterrupt\u001b[0m: "
     ]
    }
   ],
   "source": [
    "for i in range(20):\n",
    "    result = get_iqtree_accuracy(short_branches,\"ts111\",model=\"WAG\")\n",
    "    print(result[\"rf\"]/result[\"max_rf\"])"
   ]
  },
  {
   "cell_type": "code",
   "execution_count": null,
   "metadata": {},
   "outputs": [],
   "source": []
  },
  {
   "cell_type": "code",
   "execution_count": 278,
   "metadata": {},
   "outputs": [
    {
     "name": "stdout",
     "output_type": "stream",
     "text": [
      ">taxon0\n",
      "TMWSETNSIIMLYTVHYLHSANMVQDSNSSTQAITSPLFAGFMIIYPIYSLLSTYSYPLQLILSNDAIGAGLKMYSFYIHMLNSVDIDTMTARILRDSAELLSPSVGCFISNFMLKQIHLSNDTLHGLMMMSFIMTVFYNVFSSMVHDSYSFSFFFELRDFIVSNVILSLASSATYMTYTDVVNFLAYYMTQNKPVYILP\n",
      ">taxon1\n",
      "TMWSLTNSIIMLMTVQYLHSSRMVCDSNSSTQGITSPLFRGFVIIYPIYSLLSTHFYPLQMILLNEAVGAGLKMCSFCIRMLNSMDIDSMTAQILRGSAELLSPSTNSIISNYMCKQINLQSDTLHGLMMVSFIMTVPYNVFSSMVHQSYSFSFVFELRNFIVSNVILSLASSATHTTSTEVINFWAFPMTQNHPVYILP\n",
      ">taxon2\n",
      "TAYASTNAIAMLCTVQYLHSSNMVQDSNTSTSAITYPLFRNPVIIYPYYSLLSMLSSPLQYIMYNDAHGANLKMTSYFIYMLASTDIDTMTAMILRGSAKLLSPSVGCFISNDMCRSIHLQSHTMNALMRMYFINTVFYDVLSSMVHKSYSFSFFLELSVFIVSNVILSLQTSATEFTSQDVINFLSYYMTNNSPMYITP\n",
      ">taxon3\n",
      "TMYSQTNAIVMLLTIQYLHSDNAVLQSNTSTSAITYPLFYNRVIIYPYYSLLSMLSSPLQYIMYNDALGANLKMTSFFIYMINSVDINTVTAMILRGSAELLSPSVGRSISNIMCSSIHLQHHTMNGLMEMNFIMTVFYDVLSSFIHYTYSFSFFLELSVFIISNVILSLTTSATDPTAQDVVNFLSYYMTNNKKVYIVP\n",
      ">taxon4\n",
      "TMYAQTNAIVMLCTVQYLHSSNMMQDSNTSTSAITYPLFYNRVIIYPYYSLLSVLSSPLQYIMYNDALGANLKMTSFFIYMLNSVDIDTMTAMILRGSAELLSPSVGCFISNFMCSSIHLQHHTMNGLMQMNFIMTVFYDVLSSMVHKSYSFSFFLELSVFIVSNVILSLTTSATDPTYQDVINFLSYYMTNNKKVYIVP\n",
      ">taxon5\n",
      "TVWSRTNAIMMLCTVFYLHSINMVDKPNTSTNAITSPLFSGRMIIYPIYSLLSTLSCPLKLILYNDAAGHHLKMASFNIFMLNSTDINPMTAMILRGSAELLSPSVGYFISNIMCYQIHLQNHTANGLMQMYFIMTVFYDVHSSMAHVSYSFSFYLELGVFIISSVILQLMRSATHRTSSDVANFLSYPMTKHNPVYIYS\n",
      ">taxon6\n",
      "VILSQTNAISMVHTVYYLHSMNMVDKWNTSTNAITSPLFGGGMIIYPIYSLLSTSSHPLKQILYNDAAGCFLKMMSFNIFMLNSTDINPMTAMILRGSAELLSPSVNYLISNFMCYQIHLQNHTANGLMQMYFIMTVHYNVHSSMAPVSYSFSFYLELGVFITSAVILQLLRNATGFTSSDVANFLSYYMTKYNPVYIYS\n",
      ">taxon7\n",
      "TMCSSTNVLVMIFTVFYLHSSNMVDHLNTSTNAITSPLFNGRMIIYPIYSLLSPYSMPLIMILYNDAAGAQLKMMSFEIYMVNSTNINPFTNSILRASAELLSPSVGEFISSVMHFQIHLQNHTLNGLMATYFIMTVYYDVQSSIVAVNYSFSFYLVLSVFIVSAVILTLICSATARTSSDVANFLSYHMTTSEKGYTYS\n",
      ">taxon8\n",
      "TMCSSTNSLVMIFTVFYLHSVNMVDHLNTSTNAITSPLFNGRMIIYPIYSLLSLYSMPLTLILYNDAAGAHLKMTSFEIYMVNSTNINPFTNSILRASANLLSPSVGEFISSVMCFQIHLQNHTANGLMATYFIMTVYYDVQASIVAVNYSFSFYLVLGVFIVSAVILTLICSATARTYSDVANFLSYHMTTSKPGYTYS\n",
      ">taxon9\n",
      "TICSQTNVLVMIFTVFYLHSHNMADDPNTSTNAITSPLFNARMIIYPIYSLLSTCSYPLQLILYNDAIGANLKMTSYKIYMINSTHINPMTNMILRASYNLLSPSVAEFISNMMCAQISLQNHTASGLMHTYFIMTVYYEIQSSWLAVSYSFSFFLSLVVFIVPVVILQLITSATKPTESDVANFHSYHMTKSKKGYTYS\n",
      ">taxon10\n",
      "TICSQTNVLVMAFTIFYLHSANMAADPNTSTNAITSPLFNDRMIIYPIYSLLSMHSYPLQGILHNDAIGANLKMTSYKIYMINSAHINPSTNHILRASYNLLSPSVAVFISNMMCAQISLQNHTVSGLLPTYFIMTVYYEVQSSWLSVSYSFSFFLCLVVFIVPVVILQLTTSATKPTESDVANFTSYHMTKSKPGYTYS\n",
      ">taxon11\n",
      "TICSQTNVLVMIFTVFYLHSMNMADDPNTSTNAITSPLFNARMIIYPIYSLLSTYSYPLQLILYNDAIGANLKMTSYKIYMINSTHINPMTNMILRASYNLLSPSVAEFISNMMCAQISLQNHTLSGLMHTYFIMTVFYEIQSSWLAVSYSFSFFLSLVVFIVPVVILQLITSATKPTESDVANFHSYHMTKSKPGYTYS\n",
      ">taxon12\n",
      "TLWSGTHAIVMLFTVFYLHSANMMDDPNTSTNAITSPLFNGYLIIYPIYSLHSMYSYPLYDILHNDAKGYNLKMCSFKIYMLNSTAINTRTAVILRASAETLSPSVSYYISNLMCHQIHLQSHTLIVLMWINFIMTVEYDIFSSKILVSYSFSTYLDLDEFILSAVILPLMVSATDRTSHDVANFLSYPMTKSPLVYWYW\n",
      ">taxon13\n",
      "TVWSSTHTIFMLYTVSYLHSSNMMDDPNTSTNAITSPLFSQYMIIYPICSLLSTYSYPLYLISYNDADGWNLKMTSFNIYMLNSIGIYVRTAMILRGSAHLLSPSVSCYISNYMCQQIHLQNHTLATLMYTYSIMTVQYDIFSSKINTSYSFSTMLPLDQFIISAVILQLMKSATKRTSEEVANFLSYYMTNAHPMYNYA\n",
      ">taxon14\n",
      "TLWSSTHAISMLFTVSYLHSANMMDDPNTSTNGITSPLFNQMMIIYHICSLLSTYSYPLYYISYNDANGWNLKMHSFTIYMPNSAGIQVRTAMILRGSAFILSPSVSCHIGNIMCQQIHLQNHTLVTLMWVYFIMTVQYDLFSSLCLVSYSFRTRLPLDQMIISAVILQVMASATKCTSHDVANFMSYYMTNSLPVYNYA\n",
      ">taxon15\n",
      "TIWMQTNAIVMLFTVFYLQYINLTQHPNAGTYVITSPLFSSRTIIYPLYSLLSTQTCPLQLIVQNDATGASLKMVSDNIYMLASIQIDPATAMILRGSVNVLSPSVGMFLSNVMYNQISLQNHTLNGLMMMNFIMPVFYDVHSSMSHKSHSFSFYLELGVFIVLAVILLNATAATDPTSLDVVNFLSYWMTLEMKQYYYP\n",
      ">taxon16\n",
      "TIWMQTNAIVMLFTVFYLQYINIVQHSNAGTLVITSPLFMSRTIIYPLYSLLSTQTCPLQFIVQNDAIGAHLKMVSDNIYMLASIQIDPATAMILRASVNVLSPSVNMFLSNVMYNQISLQNHTANGLMMMYFIMPVFYDVHSSMAHKSHSFSFFLELGVFIVSAVILLNATIATDPTYLDVVNFLSYWMTLEMKQYYYP\n",
      ">taxon17\n",
      "TIWMQTNIEVMLYTVFYLQHHNIVQHSNAGTLVITSPLFMSHTIIYPLYSLLSTHACPLQMITQNDACGAHLKMMSDNIYMLASMQIAPATAMIWRASVNVLSPSVNVFLSNVMCNQILLQNHTANDLMMMHFIMPVFYDVHSSISCYSHSFSFVLELGVCIVLAVILLNALTATDPTYLDVVNFLSYWMTMEMKQYYYP\n",
      ">taxon18\n",
      "TMWMQTNAIVMLFTVFYLQYINVVQHPNAGTYAITSPLFCGRTIIYPIYSLLSTQTCPLQFIVQNDAIGAELKMMSFNIYSLASIQIDPMTAMILRGSVNILSPSVGTFISNFMCNQISLQEHTLNGLMMMCFIMPVFYDVHSSMAHKSHSFSFYLELGVFIVSAVILLNATIATDPTYLDVVNFLSYYMTLEKKVYYYP\n",
      ">taxon19\n",
      "TTWMQTNTIAMLFTVIYLQHINAAQDPNAGTYAITAPLFSGQYIIYPIYSLLSTQTYPLQFIVENDAIGAILKMMSYSIHSLASIQIDPMTAMILRASVNILSPSVGTFISNFMCIQISLQNHTLNGLMMMRFIMPVFYDMHSSMAHKSHSFSFYLELGVFIVSAVILLNATIATNPTYLDVVNFLSYYMTLEKPVYYHP\n",
      "\n"
     ]
    }
   ],
   "source": [
    "return_str = \"\"\n",
    "for leaf in simulated_tree:\n",
    "    return_str+=\">{}\\n{}\\n\".format(leaf.name,leaf.sequence.decode())\n",
    "print(return_str)"
   ]
  },
  {
   "cell_type": "code",
   "execution_count": 99,
   "metadata": {},
   "outputs": [
    {
     "name": "stdout",
     "output_type": "stream",
     "text": [
      "(((taxon0,(taxon1,taxon2)),((taxon3,taxon4),((taxon5,(taxon6,(taxon7,(taxon8,taxon9)))),(taxon10,taxon11)))),(((taxon12,taxon13),(taxon14,(taxon15,(taxon16,taxon17)))),(taxon18,taxon19)));\n"
     ]
    }
   ],
   "source": [
    "print(simulated_tree.write(format=9))"
   ]
  },
  {
   "cell_type": "code",
   "execution_count": 100,
   "metadata": {},
   "outputs": [],
   "source": []
  },
  {
   "cell_type": "code",
   "execution_count": 102,
   "metadata": {},
   "outputs": [
    {
     "data": {
      "text/plain": [
       "CompletedProcess(args=['../iqtree-2.0.5-Linux/bin/iqtree2', '-s'], returncode=2)"
      ]
     },
     "execution_count": 102,
     "metadata": {},
     "output_type": "execute_result"
    }
   ],
   "source": [
    "subprocess.run([\"../iqtree-2.0.5-Linux/bin/iqtree2\", \"-s\"])"
   ]
  },
  {
   "cell_type": "code",
   "execution_count": 8,
   "metadata": {},
   "outputs": [],
   "source": [
    "import subprocess\n",
    "import os\n",
    "from ete3 import Tree"
   ]
  },
  {
   "cell_type": "code",
   "execution_count": 13,
   "metadata": {},
   "outputs": [],
   "source": [
    "def create_fasta_string(simulated_tree):\n",
    "    return_str = \"\"\n",
    "    for leaf in simulated_tree:\n",
    "        return_str+=\">{}\\n{}\\n\".format(leaf.name,leaf.sequence.decode())\n",
    "    return return_str\n",
    "\n",
    "def write_fasta_file(file_name,return_str):\n",
    "    dir_path = os.getcwd()\n",
    "    dir_path+=\"/accuracy_comparision/\"+file_name\n",
    "    file_path = dir_path+\"/\"+file_name+\".fasta\"\n",
    "    if not os.path.exists(dir_path):\n",
    "        os.makedirs(dir_path)\n",
    "    with open(file_path,\"w\") as f:\n",
    "        f.write(return_str)\n",
    "    return file_path\n",
    "\n",
    "def write_original_newick_string(filename,newick_string):\n",
    "    new_filename = filename.replace(\"fasta\",\"orig_tree\")\n",
    "    print(new_filename)\n",
    "    with open(new_filename,\"w\") as f:\n",
    "        f.write(newick_string)\n",
    "\n",
    "        \n",
    "def run_iqtree(filename,model):\n",
    "    if model == None:\n",
    "        subprocess.run([\"../iqtree-2.0.5-Linux/bin/iqtree2\", \"-s\",filename,\"-redo\"])\n",
    "    else:\n",
    "        subprocess.run([\"../iqtree-2.0.5-Linux/bin/iqtree2\", \"-s\",filename,\"-m\",model,\"-redo\"])\n",
    "\n",
    "        \n",
    "        \n",
    "def get_iq_tree_newick(filename):\n",
    "    tree_filename = filename+\".treefile\"\n",
    "    with open(tree_filename,\"r\") as f:\n",
    "        tree_newick = f.read()\n",
    "    return tree_newick\n",
    "\n",
    "\n",
    "\n",
    "def get_iqtree_accuracy(simulator,filename,model = None):\n",
    "    simulated_tree = simulator.generate()\n",
    "    return_str = create_fasta_string(simulated_tree)\n",
    "    file_path = write_fasta_file(filename,return_str)\n",
    "    run_iqtree(file_path,model)\n",
    "    iq_tree_newick = get_iq_tree_newick(file_path)\n",
    "    original_newick = simulated_tree.write(format=9)\n",
    "    write_original_newick_string(file_path,original_newick)\n",
    "    iq_tree_tree = Tree(iq_tree_newick)    \n",
    "    comparison = simulated_tree.compare(iq_tree_tree,unrooted=True)\n",
    "    return {\"rf\":comparison[\"rf\"],\"size\":comparison[\"effective_tree_size\"],\"max_rf\":comparison[\"max_rf\"]}\n",
    "    "
   ]
  },
  {
   "cell_type": "code",
   "execution_count": 16,
   "metadata": {},
   "outputs": [
    {
     "name": "stdout",
     "output_type": "stream",
     "text": [
      "/scratch/ga42vor/simulating_quartets/accuracy_comparision/t3/t3.orig_tree\n"
     ]
    },
    {
     "data": {
      "text/plain": [
       "{'rf': 0.0, 'size': 20, 'max_rf': 34.0}"
      ]
     },
     "execution_count": 16,
     "metadata": {},
     "output_type": "execute_result"
    }
   ],
   "source": [
    "get_iqtree_accuracy(training1,\"t3\",\"WAG\")"
   ]
  },
  {
   "cell_type": "code",
   "execution_count": 19,
   "metadata": {},
   "outputs": [
    {
     "name": "stdout",
     "output_type": "stream",
     "text": [
      "/scratch/ga42vor/simulating_quartets/accuracy_comparision/t0/t0.orig_tree\n",
      "/scratch/ga42vor/simulating_quartets/accuracy_comparision/t1/t1.orig_tree\n",
      "/scratch/ga42vor/simulating_quartets/accuracy_comparision/t2/t2.orig_tree\n",
      "/scratch/ga42vor/simulating_quartets/accuracy_comparision/t3/t3.orig_tree\n",
      "/scratch/ga42vor/simulating_quartets/accuracy_comparision/t4/t4.orig_tree\n",
      "/scratch/ga42vor/simulating_quartets/accuracy_comparision/t5/t5.orig_tree\n",
      "/scratch/ga42vor/simulating_quartets/accuracy_comparision/t6/t6.orig_tree\n",
      "/scratch/ga42vor/simulating_quartets/accuracy_comparision/t7/t7.orig_tree\n",
      "/scratch/ga42vor/simulating_quartets/accuracy_comparision/t8/t8.orig_tree\n",
      "/scratch/ga42vor/simulating_quartets/accuracy_comparision/t9/t9.orig_tree\n",
      "/scratch/ga42vor/simulating_quartets/accuracy_comparision/t10/t10.orig_tree\n",
      "/scratch/ga42vor/simulating_quartets/accuracy_comparision/t11/t11.orig_tree\n",
      "/scratch/ga42vor/simulating_quartets/accuracy_comparision/t12/t12.orig_tree\n",
      "/scratch/ga42vor/simulating_quartets/accuracy_comparision/t13/t13.orig_tree\n",
      "/scratch/ga42vor/simulating_quartets/accuracy_comparision/t14/t14.orig_tree\n",
      "/scratch/ga42vor/simulating_quartets/accuracy_comparision/t15/t15.orig_tree\n",
      "/scratch/ga42vor/simulating_quartets/accuracy_comparision/t16/t16.orig_tree\n",
      "/scratch/ga42vor/simulating_quartets/accuracy_comparision/t17/t17.orig_tree\n",
      "/scratch/ga42vor/simulating_quartets/accuracy_comparision/t18/t18.orig_tree\n",
      "/scratch/ga42vor/simulating_quartets/accuracy_comparision/t19/t19.orig_tree\n"
     ]
    }
   ],
   "source": [
    "results = []\n",
    "for i in range(20):\n",
    "    results.append(get_iqtree_accuracy(training1,\"t{}\".format(i),model=\"WAG\"))"
   ]
  },
  {
   "cell_type": "code",
   "execution_count": 38,
   "metadata": {},
   "outputs": [
    {
     "name": "stdout",
     "output_type": "stream",
     "text": [
      "average:  0.1094\n",
      "stdev:    0.1121\n"
     ]
    }
   ],
   "source": [
    "import statistics\n",
    "rfs = []\n",
    "for r in results3:\n",
    "    rfs.append(r[\"rf\"])\n",
    "\n",
    "average = sum(rfs)/len(rfs)\n",
    "stdev = statistics.stdev(rfs)\n",
    "\n",
    "print(\"average:  {:1.4f}\\nstdev:    {:1.4f}\".format(average/34,stdev/34))"
   ]
  },
  {
   "cell_type": "code",
   "execution_count": 22,
   "metadata": {},
   "outputs": [
    {
     "ename": "NameError",
     "evalue": "name 'results3' is not defined",
     "output_type": "error",
     "traceback": [
      "\u001b[0;31m---------------------------------------------------------------------------\u001b[0m",
      "\u001b[0;31mNameError\u001b[0m                                 Traceback (most recent call last)",
      "\u001b[0;32m<ipython-input-22-37f1c0b5ed88>\u001b[0m in \u001b[0;36m<module>\u001b[0;34m\u001b[0m\n\u001b[0;32m----> 1\u001b[0;31m \u001b[0mlen\u001b[0m\u001b[0;34m(\u001b[0m\u001b[0mresults3\u001b[0m\u001b[0;34m)\u001b[0m\u001b[0;34m\u001b[0m\u001b[0;34m\u001b[0m\u001b[0m\n\u001b[0m",
      "\u001b[0;31mNameError\u001b[0m: name 'results3' is not defined"
     ]
    }
   ],
   "source": [
    "len(results3)"
   ]
  },
  {
   "cell_type": "code",
   "execution_count": 24,
   "metadata": {},
   "outputs": [
    {
     "name": "stdout",
     "output_type": "stream",
     "text": [
      "/scratch/ga42vor/simulating_quartets/accuracy_comparision/training1_0/training1_0.orig_tree\n",
      "/scratch/ga42vor/simulating_quartets/accuracy_comparision/training1_1/training1_1.orig_tree\n",
      "/scratch/ga42vor/simulating_quartets/accuracy_comparision/training1_2/training1_2.orig_tree\n",
      "/scratch/ga42vor/simulating_quartets/accuracy_comparision/training1_3/training1_3.orig_tree\n",
      "/scratch/ga42vor/simulating_quartets/accuracy_comparision/training1_4/training1_4.orig_tree\n",
      "/scratch/ga42vor/simulating_quartets/accuracy_comparision/training1_5/training1_5.orig_tree\n",
      "/scratch/ga42vor/simulating_quartets/accuracy_comparision/training1_6/training1_6.orig_tree\n",
      "/scratch/ga42vor/simulating_quartets/accuracy_comparision/training1_7/training1_7.orig_tree\n",
      "/scratch/ga42vor/simulating_quartets/accuracy_comparision/training1_8/training1_8.orig_tree\n",
      "/scratch/ga42vor/simulating_quartets/accuracy_comparision/training1_9/training1_9.orig_tree\n",
      "/scratch/ga42vor/simulating_quartets/accuracy_comparision/training1_10/training1_10.orig_tree\n",
      "/scratch/ga42vor/simulating_quartets/accuracy_comparision/training1_11/training1_11.orig_tree\n",
      "/scratch/ga42vor/simulating_quartets/accuracy_comparision/training1_12/training1_12.orig_tree\n",
      "/scratch/ga42vor/simulating_quartets/accuracy_comparision/training1_13/training1_13.orig_tree\n",
      "/scratch/ga42vor/simulating_quartets/accuracy_comparision/training1_14/training1_14.orig_tree\n",
      "/scratch/ga42vor/simulating_quartets/accuracy_comparision/training1_15/training1_15.orig_tree\n",
      "/scratch/ga42vor/simulating_quartets/accuracy_comparision/training1_16/training1_16.orig_tree\n",
      "/scratch/ga42vor/simulating_quartets/accuracy_comparision/training1_17/training1_17.orig_tree\n",
      "/scratch/ga42vor/simulating_quartets/accuracy_comparision/training1_18/training1_18.orig_tree\n",
      "/scratch/ga42vor/simulating_quartets/accuracy_comparision/training1_19/training1_19.orig_tree\n",
      "/scratch/ga42vor/simulating_quartets/accuracy_comparision/training1_20/training1_20.orig_tree\n",
      "/scratch/ga42vor/simulating_quartets/accuracy_comparision/training1_21/training1_21.orig_tree\n",
      "/scratch/ga42vor/simulating_quartets/accuracy_comparision/training1_22/training1_22.orig_tree\n",
      "/scratch/ga42vor/simulating_quartets/accuracy_comparision/training1_23/training1_23.orig_tree\n",
      "/scratch/ga42vor/simulating_quartets/accuracy_comparision/training1_24/training1_24.orig_tree\n",
      "/scratch/ga42vor/simulating_quartets/accuracy_comparision/training1_25/training1_25.orig_tree\n",
      "/scratch/ga42vor/simulating_quartets/accuracy_comparision/training1_26/training1_26.orig_tree\n",
      "/scratch/ga42vor/simulating_quartets/accuracy_comparision/training1_27/training1_27.orig_tree\n",
      "/scratch/ga42vor/simulating_quartets/accuracy_comparision/training1_28/training1_28.orig_tree\n",
      "/scratch/ga42vor/simulating_quartets/accuracy_comparision/training1_29/training1_29.orig_tree\n",
      "/scratch/ga42vor/simulating_quartets/accuracy_comparision/training1_30/training1_30.orig_tree\n",
      "/scratch/ga42vor/simulating_quartets/accuracy_comparision/training1_31/training1_31.orig_tree\n",
      "/scratch/ga42vor/simulating_quartets/accuracy_comparision/training1_32/training1_32.orig_tree\n",
      "/scratch/ga42vor/simulating_quartets/accuracy_comparision/training1_33/training1_33.orig_tree\n",
      "/scratch/ga42vor/simulating_quartets/accuracy_comparision/training1_34/training1_34.orig_tree\n",
      "/scratch/ga42vor/simulating_quartets/accuracy_comparision/training1_35/training1_35.orig_tree\n",
      "/scratch/ga42vor/simulating_quartets/accuracy_comparision/training1_36/training1_36.orig_tree\n",
      "/scratch/ga42vor/simulating_quartets/accuracy_comparision/training1_37/training1_37.orig_tree\n",
      "/scratch/ga42vor/simulating_quartets/accuracy_comparision/training1_38/training1_38.orig_tree\n",
      "/scratch/ga42vor/simulating_quartets/accuracy_comparision/training1_39/training1_39.orig_tree\n",
      "/scratch/ga42vor/simulating_quartets/accuracy_comparision/training1_40/training1_40.orig_tree\n",
      "/scratch/ga42vor/simulating_quartets/accuracy_comparision/training1_41/training1_41.orig_tree\n",
      "/scratch/ga42vor/simulating_quartets/accuracy_comparision/training1_42/training1_42.orig_tree\n",
      "/scratch/ga42vor/simulating_quartets/accuracy_comparision/training1_43/training1_43.orig_tree\n",
      "/scratch/ga42vor/simulating_quartets/accuracy_comparision/training1_44/training1_44.orig_tree\n",
      "/scratch/ga42vor/simulating_quartets/accuracy_comparision/training1_45/training1_45.orig_tree\n",
      "/scratch/ga42vor/simulating_quartets/accuracy_comparision/training1_46/training1_46.orig_tree\n",
      "/scratch/ga42vor/simulating_quartets/accuracy_comparision/training1_47/training1_47.orig_tree\n",
      "/scratch/ga42vor/simulating_quartets/accuracy_comparision/training1_48/training1_48.orig_tree\n",
      "/scratch/ga42vor/simulating_quartets/accuracy_comparision/training1_49/training1_49.orig_tree\n"
     ]
    }
   ],
   "source": [
    "results1 = []\n",
    "for i in range(50):\n",
    "    results1.append(get_iqtree_accuracy(training1,\"training1_{}\".format(i),model=\"WAG\"))"
   ]
  },
  {
   "cell_type": "code",
   "execution_count": 29,
   "metadata": {},
   "outputs": [
    {
     "name": "stdout",
     "output_type": "stream",
     "text": [
      "/scratch/ga42vor/simulating_quartets/accuracy_comparision/training2_0/training2_0.orig_tree\n",
      "/scratch/ga42vor/simulating_quartets/accuracy_comparision/training2_1/training2_1.orig_tree\n",
      "/scratch/ga42vor/simulating_quartets/accuracy_comparision/training2_2/training2_2.orig_tree\n",
      "/scratch/ga42vor/simulating_quartets/accuracy_comparision/training2_3/training2_3.orig_tree\n",
      "/scratch/ga42vor/simulating_quartets/accuracy_comparision/training2_4/training2_4.orig_tree\n",
      "/scratch/ga42vor/simulating_quartets/accuracy_comparision/training2_5/training2_5.orig_tree\n",
      "/scratch/ga42vor/simulating_quartets/accuracy_comparision/training2_6/training2_6.orig_tree\n",
      "/scratch/ga42vor/simulating_quartets/accuracy_comparision/training2_7/training2_7.orig_tree\n",
      "/scratch/ga42vor/simulating_quartets/accuracy_comparision/training2_8/training2_8.orig_tree\n",
      "/scratch/ga42vor/simulating_quartets/accuracy_comparision/training2_9/training2_9.orig_tree\n",
      "/scratch/ga42vor/simulating_quartets/accuracy_comparision/training2_10/training2_10.orig_tree\n",
      "/scratch/ga42vor/simulating_quartets/accuracy_comparision/training2_11/training2_11.orig_tree\n",
      "/scratch/ga42vor/simulating_quartets/accuracy_comparision/training2_12/training2_12.orig_tree\n",
      "/scratch/ga42vor/simulating_quartets/accuracy_comparision/training2_13/training2_13.orig_tree\n",
      "/scratch/ga42vor/simulating_quartets/accuracy_comparision/training2_14/training2_14.orig_tree\n",
      "/scratch/ga42vor/simulating_quartets/accuracy_comparision/training2_15/training2_15.orig_tree\n",
      "/scratch/ga42vor/simulating_quartets/accuracy_comparision/training2_16/training2_16.orig_tree\n",
      "/scratch/ga42vor/simulating_quartets/accuracy_comparision/training2_17/training2_17.orig_tree\n",
      "/scratch/ga42vor/simulating_quartets/accuracy_comparision/training2_18/training2_18.orig_tree\n",
      "/scratch/ga42vor/simulating_quartets/accuracy_comparision/training2_19/training2_19.orig_tree\n",
      "/scratch/ga42vor/simulating_quartets/accuracy_comparision/training2_20/training2_20.orig_tree\n",
      "/scratch/ga42vor/simulating_quartets/accuracy_comparision/training2_21/training2_21.orig_tree\n",
      "/scratch/ga42vor/simulating_quartets/accuracy_comparision/training2_22/training2_22.orig_tree\n",
      "/scratch/ga42vor/simulating_quartets/accuracy_comparision/training2_23/training2_23.orig_tree\n",
      "/scratch/ga42vor/simulating_quartets/accuracy_comparision/training2_24/training2_24.orig_tree\n",
      "/scratch/ga42vor/simulating_quartets/accuracy_comparision/training2_25/training2_25.orig_tree\n",
      "/scratch/ga42vor/simulating_quartets/accuracy_comparision/training2_26/training2_26.orig_tree\n",
      "/scratch/ga42vor/simulating_quartets/accuracy_comparision/training2_27/training2_27.orig_tree\n",
      "/scratch/ga42vor/simulating_quartets/accuracy_comparision/training2_28/training2_28.orig_tree\n",
      "/scratch/ga42vor/simulating_quartets/accuracy_comparision/training2_29/training2_29.orig_tree\n",
      "/scratch/ga42vor/simulating_quartets/accuracy_comparision/training2_30/training2_30.orig_tree\n",
      "/scratch/ga42vor/simulating_quartets/accuracy_comparision/training2_31/training2_31.orig_tree\n",
      "/scratch/ga42vor/simulating_quartets/accuracy_comparision/training2_32/training2_32.orig_tree\n",
      "/scratch/ga42vor/simulating_quartets/accuracy_comparision/training2_33/training2_33.orig_tree\n",
      "/scratch/ga42vor/simulating_quartets/accuracy_comparision/training2_34/training2_34.orig_tree\n",
      "/scratch/ga42vor/simulating_quartets/accuracy_comparision/training2_35/training2_35.orig_tree\n",
      "/scratch/ga42vor/simulating_quartets/accuracy_comparision/training2_36/training2_36.orig_tree\n",
      "/scratch/ga42vor/simulating_quartets/accuracy_comparision/training2_37/training2_37.orig_tree\n",
      "/scratch/ga42vor/simulating_quartets/accuracy_comparision/training2_38/training2_38.orig_tree\n",
      "/scratch/ga42vor/simulating_quartets/accuracy_comparision/training2_39/training2_39.orig_tree\n",
      "/scratch/ga42vor/simulating_quartets/accuracy_comparision/training2_40/training2_40.orig_tree\n",
      "/scratch/ga42vor/simulating_quartets/accuracy_comparision/training2_41/training2_41.orig_tree\n",
      "/scratch/ga42vor/simulating_quartets/accuracy_comparision/training2_42/training2_42.orig_tree\n",
      "/scratch/ga42vor/simulating_quartets/accuracy_comparision/training2_43/training2_43.orig_tree\n",
      "/scratch/ga42vor/simulating_quartets/accuracy_comparision/training2_44/training2_44.orig_tree\n",
      "/scratch/ga42vor/simulating_quartets/accuracy_comparision/training2_45/training2_45.orig_tree\n",
      "/scratch/ga42vor/simulating_quartets/accuracy_comparision/training2_46/training2_46.orig_tree\n",
      "/scratch/ga42vor/simulating_quartets/accuracy_comparision/training2_47/training2_47.orig_tree\n",
      "/scratch/ga42vor/simulating_quartets/accuracy_comparision/training2_48/training2_48.orig_tree\n",
      "/scratch/ga42vor/simulating_quartets/accuracy_comparision/training2_49/training2_49.orig_tree\n"
     ]
    }
   ],
   "source": [
    "results2 = []\n",
    "for i in range(50):\n",
    "    results2.append(get_iqtree_accuracy(training2,\"training2_{}\".format(i),model=\"WAG\"))"
   ]
  },
  {
   "cell_type": "code",
   "execution_count": 25,
   "metadata": {},
   "outputs": [
    {
     "name": "stdout",
     "output_type": "stream",
     "text": [
      "/scratch/ga42vor/simulating_quartets/accuracy_comparision/training3_0/training3_0.orig_tree\n",
      "/scratch/ga42vor/simulating_quartets/accuracy_comparision/training3_1/training3_1.orig_tree\n",
      "/scratch/ga42vor/simulating_quartets/accuracy_comparision/training3_2/training3_2.orig_tree\n",
      "/scratch/ga42vor/simulating_quartets/accuracy_comparision/training3_3/training3_3.orig_tree\n",
      "/scratch/ga42vor/simulating_quartets/accuracy_comparision/training3_4/training3_4.orig_tree\n",
      "/scratch/ga42vor/simulating_quartets/accuracy_comparision/training3_5/training3_5.orig_tree\n",
      "/scratch/ga42vor/simulating_quartets/accuracy_comparision/training3_6/training3_6.orig_tree\n",
      "/scratch/ga42vor/simulating_quartets/accuracy_comparision/training3_7/training3_7.orig_tree\n",
      "/scratch/ga42vor/simulating_quartets/accuracy_comparision/training3_8/training3_8.orig_tree\n",
      "/scratch/ga42vor/simulating_quartets/accuracy_comparision/training3_9/training3_9.orig_tree\n",
      "/scratch/ga42vor/simulating_quartets/accuracy_comparision/training3_10/training3_10.orig_tree\n",
      "/scratch/ga42vor/simulating_quartets/accuracy_comparision/training3_11/training3_11.orig_tree\n",
      "/scratch/ga42vor/simulating_quartets/accuracy_comparision/training3_12/training3_12.orig_tree\n",
      "/scratch/ga42vor/simulating_quartets/accuracy_comparision/training3_13/training3_13.orig_tree\n",
      "/scratch/ga42vor/simulating_quartets/accuracy_comparision/training3_14/training3_14.orig_tree\n",
      "/scratch/ga42vor/simulating_quartets/accuracy_comparision/training3_15/training3_15.orig_tree\n",
      "/scratch/ga42vor/simulating_quartets/accuracy_comparision/training3_16/training3_16.orig_tree\n",
      "/scratch/ga42vor/simulating_quartets/accuracy_comparision/training3_17/training3_17.orig_tree\n",
      "/scratch/ga42vor/simulating_quartets/accuracy_comparision/training3_18/training3_18.orig_tree\n",
      "/scratch/ga42vor/simulating_quartets/accuracy_comparision/training3_19/training3_19.orig_tree\n",
      "/scratch/ga42vor/simulating_quartets/accuracy_comparision/training3_20/training3_20.orig_tree\n",
      "/scratch/ga42vor/simulating_quartets/accuracy_comparision/training3_21/training3_21.orig_tree\n",
      "/scratch/ga42vor/simulating_quartets/accuracy_comparision/training3_22/training3_22.orig_tree\n",
      "/scratch/ga42vor/simulating_quartets/accuracy_comparision/training3_23/training3_23.orig_tree\n",
      "/scratch/ga42vor/simulating_quartets/accuracy_comparision/training3_24/training3_24.orig_tree\n",
      "/scratch/ga42vor/simulating_quartets/accuracy_comparision/training3_25/training3_25.orig_tree\n",
      "/scratch/ga42vor/simulating_quartets/accuracy_comparision/training3_26/training3_26.orig_tree\n",
      "/scratch/ga42vor/simulating_quartets/accuracy_comparision/training3_27/training3_27.orig_tree\n",
      "/scratch/ga42vor/simulating_quartets/accuracy_comparision/training3_28/training3_28.orig_tree\n",
      "/scratch/ga42vor/simulating_quartets/accuracy_comparision/training3_29/training3_29.orig_tree\n",
      "/scratch/ga42vor/simulating_quartets/accuracy_comparision/training3_30/training3_30.orig_tree\n",
      "/scratch/ga42vor/simulating_quartets/accuracy_comparision/training3_31/training3_31.orig_tree\n",
      "/scratch/ga42vor/simulating_quartets/accuracy_comparision/training3_32/training3_32.orig_tree\n",
      "/scratch/ga42vor/simulating_quartets/accuracy_comparision/training3_33/training3_33.orig_tree\n",
      "/scratch/ga42vor/simulating_quartets/accuracy_comparision/training3_34/training3_34.orig_tree\n",
      "/scratch/ga42vor/simulating_quartets/accuracy_comparision/training3_35/training3_35.orig_tree\n",
      "/scratch/ga42vor/simulating_quartets/accuracy_comparision/training3_36/training3_36.orig_tree\n",
      "/scratch/ga42vor/simulating_quartets/accuracy_comparision/training3_37/training3_37.orig_tree\n",
      "/scratch/ga42vor/simulating_quartets/accuracy_comparision/training3_38/training3_38.orig_tree\n",
      "/scratch/ga42vor/simulating_quartets/accuracy_comparision/training3_39/training3_39.orig_tree\n",
      "/scratch/ga42vor/simulating_quartets/accuracy_comparision/training3_40/training3_40.orig_tree\n",
      "/scratch/ga42vor/simulating_quartets/accuracy_comparision/training3_41/training3_41.orig_tree\n",
      "/scratch/ga42vor/simulating_quartets/accuracy_comparision/training3_42/training3_42.orig_tree\n",
      "/scratch/ga42vor/simulating_quartets/accuracy_comparision/training3_43/training3_43.orig_tree\n",
      "/scratch/ga42vor/simulating_quartets/accuracy_comparision/training3_44/training3_44.orig_tree\n",
      "/scratch/ga42vor/simulating_quartets/accuracy_comparision/training3_45/training3_45.orig_tree\n",
      "/scratch/ga42vor/simulating_quartets/accuracy_comparision/training3_46/training3_46.orig_tree\n",
      "/scratch/ga42vor/simulating_quartets/accuracy_comparision/training3_47/training3_47.orig_tree\n",
      "/scratch/ga42vor/simulating_quartets/accuracy_comparision/training3_48/training3_48.orig_tree\n",
      "/scratch/ga42vor/simulating_quartets/accuracy_comparision/training3_49/training3_49.orig_tree\n"
     ]
    }
   ],
   "source": [
    "results3 = []\n",
    "for i in range(50):\n",
    "    results3.append(get_iqtree_accuracy(training3,\"training3_{}\".format(i),model=\"WAG\"))"
   ]
  },
  {
   "cell_type": "code",
   "execution_count": 205,
   "metadata": {},
   "outputs": [
    {
     "data": {
      "text/plain": [
       "[{'rf': 0.0, 'size': 20},\n",
       " {'rf': 0.0, 'size': 20},\n",
       " {'rf': 0.0, 'size': 20},\n",
       " {'rf': 0.0, 'size': 20},\n",
       " {'rf': 0.0, 'size': 20},\n",
       " {'rf': 2.0, 'size': 20},\n",
       " {'rf': 0.0, 'size': 20},\n",
       " {'rf': 4.0, 'size': 20},\n",
       " {'rf': 2.0, 'size': 20},\n",
       " {'rf': 2.0, 'size': 20},\n",
       " {'rf': 2.0, 'size': 20},\n",
       " {'rf': 2.0, 'size': 20},\n",
       " {'rf': 4.0, 'size': 20},\n",
       " {'rf': 0.0, 'size': 20},\n",
       " {'rf': 0.0, 'size': 20},\n",
       " {'rf': 2.0, 'size': 20},\n",
       " {'rf': 0.0, 'size': 20},\n",
       " {'rf': 2.0, 'size': 20},\n",
       " {'rf': 2.0, 'size': 20},\n",
       " {'rf': 2.0, 'size': 20},\n",
       " {'rf': 2.0, 'size': 20},\n",
       " {'rf': 0.0, 'size': 20},\n",
       " {'rf': 2.0, 'size': 20},\n",
       " {'rf': 0.0, 'size': 20},\n",
       " {'rf': 2.0, 'size': 20},\n",
       " {'rf': 2.0, 'size': 20},\n",
       " {'rf': 0.0, 'size': 20},\n",
       " {'rf': 6.0, 'size': 20},\n",
       " {'rf': 0.0, 'size': 20},\n",
       " {'rf': 6.0, 'size': 20},\n",
       " {'rf': 0.0, 'size': 20},\n",
       " {'rf': 2.0, 'size': 20},\n",
       " {'rf': 6.0, 'size': 20},\n",
       " {'rf': 0.0, 'size': 20},\n",
       " {'rf': 0.0, 'size': 20},\n",
       " {'rf': 2.0, 'size': 20},\n",
       " {'rf': 0.0, 'size': 20},\n",
       " {'rf': 0.0, 'size': 20},\n",
       " {'rf': 0.0, 'size': 20},\n",
       " {'rf': 4.0, 'size': 20},\n",
       " {'rf': 0.0, 'size': 20},\n",
       " {'rf': 4.0, 'size': 20},\n",
       " {'rf': 0.0, 'size': 20},\n",
       " {'rf': 0.0, 'size': 20},\n",
       " {'rf': 0.0, 'size': 20},\n",
       " {'rf': 0.0, 'size': 20},\n",
       " {'rf': 4.0, 'size': 20},\n",
       " {'rf': 0.0, 'size': 20},\n",
       " {'rf': 0.0, 'size': 20},\n",
       " {'rf': 0.0, 'size': 20}]"
      ]
     },
     "execution_count": 205,
     "metadata": {},
     "output_type": "execute_result"
    }
   ],
   "source": [
    "results2"
   ]
  },
  {
   "cell_type": "code",
   "execution_count": 209,
   "metadata": {},
   "outputs": [],
   "source": [
    "import pickle\n",
    "with open(\"results.pickle\",\"wb\") as f:\n",
    "    pickle.dump({\"results1\":results1,\"results2\":results2,\"results3\":results3},f)"
   ]
  },
  {
   "cell_type": "code",
   "execution_count": null,
   "metadata": {},
   "outputs": [],
   "source": []
  }
 ],
 "metadata": {
  "kernelspec": {
   "display_name": "Python 3",
   "language": "python",
   "name": "python3"
  },
  "language_info": {
   "codemirror_mode": {
    "name": "ipython",
    "version": 3
   },
   "file_extension": ".py",
   "mimetype": "text/x-python",
   "name": "python",
   "nbconvert_exporter": "python",
   "pygments_lexer": "ipython3",
   "version": "3.6.7"
  }
 },
 "nbformat": 4,
 "nbformat_minor": 4
}
